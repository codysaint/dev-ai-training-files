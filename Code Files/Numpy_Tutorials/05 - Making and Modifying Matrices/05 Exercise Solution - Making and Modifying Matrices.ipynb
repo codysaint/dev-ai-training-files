{
 "cells": [
  {
   "cell_type": "markdown",
   "metadata": {},
   "source": [
    "# 05 Exercise Solution - Making and Modifying Matrices"
   ]
  },
  {
   "cell_type": "markdown",
   "metadata": {},
   "source": [
    "In this exercise set, we are going are going to work with a dataset about the weather in Berlin. This will give us plenty of practice with 2D arrays."
   ]
  },
  {
   "cell_type": "code",
   "execution_count": 1,
   "metadata": {},
   "outputs": [
    {
     "name": "stdout",
     "output_type": "stream",
     "text": [
      "Record High:\n",
      "[15.1, 18.0, 25.8, 30.8, 32.7, 35.4, 37.3, 38.0, 32.3, 27.7, 20.4, 15.6]\n",
      "\n",
      "Daily Mean:\n",
      "[0.1, 0.9, 43, 9.0, 14.0, 16.8, 19.1, 18.5, 14.2, 9.4, 4.4, 1.0]\n",
      "\n",
      "Record Low:\n",
      "[-25.3, -22.0, -16.0, -7.4, -2.8, 1.3, 4.9, 4.6, -0.9, -7.7, -12.0, -24.0]\n",
      "\n"
     ]
    }
   ],
   "source": [
    "# DON'T MODIFY THIS CELL, ONLY RUN IT.\n",
    "\n",
    "# Importing numpy as np.\n",
    "import numpy as np\n",
    "\n",
    "# List of weather in Berlin in Celsius taken from Wikipedia\n",
    "row_description = [\"Record High\", \"Daily Mean\", \"Record Low\"]\n",
    "berlin_weather_list = [\n",
    "    [15.1, 18.0, 25.8, 30.8, 32.7, 35.4, 37.3, 38.0, 32.3, 27.7, 20.4, 15.6], \n",
    "    [0.1, 0.9, 43, 9.0, 14.0, 16.8, 19.1, 18.5, 14.2, 9.4, 4.4, 1.0],\n",
    "    [-25.3, -22.0, -16.0, -7.4, -2.8, 1.3, 4.9, 4.6, -0.9, -7.7, -12.0, -24.0]\n",
    "]\n",
    "\n",
    "# Print out the data\n",
    "for idx, row in enumerate(row_description):\n",
    "    print(f'{row}:\\n{berlin_weather_list[idx]}\\n')"
   ]
  },
  {
   "cell_type": "markdown",
   "metadata": {},
   "source": [
    "## Exercise 1: Make a 2D Array"
   ]
  },
  {
   "cell_type": "markdown",
   "metadata": {},
   "source": [
    "Make a 2D array called <b>berlin_weather</b> from the <b>berlin_weather_list</b> and check the size of the array."
   ]
  },
  {
   "cell_type": "code",
   "execution_count": 2,
   "metadata": {
    "scrolled": true
   },
   "outputs": [
    {
     "data": {
      "text/plain": [
       "(3, 12)"
      ]
     },
     "execution_count": 2,
     "metadata": {},
     "output_type": "execute_result"
    }
   ],
   "source": [
    "# Convert the berlin_weather_list into a NumPy array\n",
    "berlin_weather = np.array(berlin_weather_list)\n",
    "\n",
    "# Find the shape of the array\n",
    "berlin_weather.shape"
   ]
  },
  {
   "cell_type": "markdown",
   "metadata": {},
   "source": [
    "## Exercise 2: Changing Enteries"
   ]
  },
  {
   "cell_type": "markdown",
   "metadata": {},
   "source": [
    "There is a typo in the dataset. The average temperature for March daily average should be 4.3 not 43. Fix the mistake by using indexing, not by modifying the original list."
   ]
  },
  {
   "cell_type": "code",
   "execution_count": 3,
   "metadata": {},
   "outputs": [
    {
     "data": {
      "text/plain": [
       "array([[ 15.1,  18. ,  25.8,  30.8,  32.7,  35.4,  37.3,  38. ,  32.3,\n",
       "         27.7,  20.4,  15.6],\n",
       "       [  0.1,   0.9,   4.3,   9. ,  14. ,  16.8,  19.1,  18.5,  14.2,\n",
       "          9.4,   4.4,   1. ],\n",
       "       [-25.3, -22. , -16. ,  -7.4,  -2.8,   1.3,   4.9,   4.6,  -0.9,\n",
       "         -7.7, -12. , -24. ]])"
      ]
     },
     "execution_count": 3,
     "metadata": {},
     "output_type": "execute_result"
    }
   ],
   "source": [
    "# Setting the daily average for March to be 4.3\n",
    "berlin_weather[1, 2] = 4.3\n",
    "berlin_weather"
   ]
  },
  {
   "cell_type": "markdown",
   "metadata": {},
   "source": [
    "## Exercise 3:  Printing Out the Data"
   ]
  },
  {
   "cell_type": "markdown",
   "metadata": {},
   "source": [
    "Print out the column containing the data for June."
   ]
  },
  {
   "cell_type": "code",
   "execution_count": 4,
   "metadata": {},
   "outputs": [
    {
     "name": "stdout",
     "output_type": "stream",
     "text": [
      "[35.4 16.8  1.3]\n"
     ]
    }
   ],
   "source": [
    "# Data for June\n",
    "print(berlin_weather[:, 5])"
   ]
  },
  {
   "cell_type": "markdown",
   "metadata": {},
   "source": [
    "## Exercise 4: Reshaping the Data"
   ]
  },
  {
   "cell_type": "markdown",
   "metadata": {},
   "source": [
    "### Exercise 4a: \n",
    "Take the row containing the record low temperatures and reshape it into a matrix with 6 rows and 2 columns."
   ]
  },
  {
   "cell_type": "code",
   "execution_count": 5,
   "metadata": {},
   "outputs": [],
   "source": [
    "# Reshape the record low temperatures\n",
    "every_second_low = berlin_weather[2].reshape(6, 2)"
   ]
  },
  {
   "cell_type": "markdown",
   "metadata": {},
   "source": [
    "### Exercise 4b: \n",
    "Take average of pairs of consecutive months of the record low temeratures.\n",
    "\n",
    "<i>Hint: </i> Use what you found in Exercise 4a and the mean method."
   ]
  },
  {
   "cell_type": "code",
   "execution_count": 6,
   "metadata": {},
   "outputs": [
    {
     "data": {
      "text/plain": [
       "array([-23.65, -11.7 ,  -0.75,   4.75,  -4.3 , -18.  ])"
      ]
     },
     "execution_count": 6,
     "metadata": {},
     "output_type": "execute_result"
    }
   ],
   "source": [
    "# Take average of pairs of consecutive months.\n",
    "every_second_low.mean(axis=1)"
   ]
  },
  {
   "cell_type": "markdown",
   "metadata": {},
   "source": [
    "## Exercise 5: Max and Min\n",
    "Find the maximum and minimum values over all the rows."
   ]
  },
  {
   "cell_type": "code",
   "execution_count": 7,
   "metadata": {},
   "outputs": [
    {
     "data": {
      "text/plain": [
       "array([38. , 19.1,  4.9])"
      ]
     },
     "execution_count": 7,
     "metadata": {},
     "output_type": "execute_result"
    }
   ],
   "source": [
    "# The max over all the rows\n",
    "berlin_weather.max(axis=1)"
   ]
  },
  {
   "cell_type": "code",
   "execution_count": 8,
   "metadata": {
    "scrolled": true
   },
   "outputs": [
    {
     "data": {
      "text/plain": [
       "array([ 15.1,   0.1, -25.3])"
      ]
     },
     "execution_count": 8,
     "metadata": {},
     "output_type": "execute_result"
    }
   ],
   "source": [
    "# The min over all the rows\n",
    "berlin_weather.min(axis=1)"
   ]
  },
  {
   "cell_type": "markdown",
   "metadata": {},
   "source": [
    "## Exercise 6: Boolean Matrices"
   ]
  },
  {
   "cell_type": "markdown",
   "metadata": {},
   "source": [
    "### Exercise 6a: \n",
    "For how many rows are the average temperature over 10 degrees Celsius?"
   ]
  },
  {
   "cell_type": "code",
   "execution_count": 9,
   "metadata": {},
   "outputs": [
    {
     "data": {
      "text/plain": [
       "5"
      ]
     },
     "execution_count": 9,
     "metadata": {},
     "output_type": "execute_result"
    }
   ],
   "source": [
    "# The total number of months with average over 10 degrees Celsius\n",
    "(berlin_weather[1] > 10).sum()"
   ]
  },
  {
   "cell_type": "markdown",
   "metadata": {},
   "source": [
    "### Exercise 6b: \n",
    "Are there months where the record high is subzero?"
   ]
  },
  {
   "cell_type": "code",
   "execution_count": 10,
   "metadata": {},
   "outputs": [
    {
     "data": {
      "text/plain": [
       "False"
      ]
     },
     "execution_count": 10,
     "metadata": {},
     "output_type": "execute_result"
    }
   ],
   "source": [
    "# Any record highs below zero?\n",
    "(berlin_weather[0] < 0).any()"
   ]
  },
  {
   "cell_type": "markdown",
   "metadata": {},
   "source": [
    "What about months where the daily average is subzero?"
   ]
  },
  {
   "cell_type": "code",
   "execution_count": 12,
   "metadata": {},
   "outputs": [
    {
     "data": {
      "text/plain": [
       "False"
      ]
     },
     "execution_count": 12,
     "metadata": {},
     "output_type": "execute_result"
    }
   ],
   "source": [
    "# Any averages below zero?\n",
    "(berlin_weather[1] < 0).any()"
   ]
  },
  {
   "cell_type": "markdown",
   "metadata": {},
   "source": [
    "## Moral of the Story"
   ]
  },
  {
   "cell_type": "markdown",
   "metadata": {},
   "source": [
    "In this exercise set, we have seen that reshaping and other techniques are vital for handeling data. Being comfortable with matricies in NumPy is a valuable skill. "
   ]
  }
 ],
 "metadata": {
  "kernelspec": {
   "display_name": "Python 3",
   "language": "python",
   "name": "python3"
  },
  "language_info": {
   "codemirror_mode": {
    "name": "ipython",
    "version": 3
   },
   "file_extension": ".py",
   "mimetype": "text/x-python",
   "name": "python",
   "nbconvert_exporter": "python",
   "pygments_lexer": "ipython3",
   "version": "3.8.5"
  }
 },
 "nbformat": 4,
 "nbformat_minor": 4
}
