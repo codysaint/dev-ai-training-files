{
 "cells": [
  {
   "cell_type": "markdown",
   "metadata": {},
   "source": [
    "# 03 Exercise Solution - Plotting Temperatures in New York"
   ]
  },
  {
   "cell_type": "markdown",
   "metadata": {},
   "source": [
    "This is a continuation of the Exercise set <b>02 Exercise - Temperature Data in New York</b>. This time, we will be plotting the data to find interesting patterns. The next cell contains the information we need which we found in the previous exercise set."
   ]
  },
  {
   "cell_type": "code",
   "execution_count": 1,
   "metadata": {},
   "outputs": [
    {
     "name": "stdout",
     "output_type": "stream",
     "text": [
      "The temperatures in Celsius are:\n",
      " [-33.33333333 -30.         -29.44444444 -12.77777778  -3.88888889\n",
      "   1.66666667   4.44444444   1.11111111  -4.44444444  -8.88888889\n",
      " -23.88888889 -30.        ] \n",
      "\n",
      "The minimum temperature is  -33.333333333333336 \n",
      "\n",
      "The maximum temperature is  -33.333333333333336 \n",
      "\n",
      "The index of the maximum temperature is  6 \n",
      "\n",
      "The average temperature is  -14.120370370370372\n"
     ]
    }
   ],
   "source": [
    "# DON'T MODIFY THIS CELL, ONLY RUN IT.\n",
    "\n",
    "# Importing NumPy as np.\n",
    "import numpy as np\n",
    "\n",
    "# Making the dataset of temperatures in Celsius\n",
    "record_low_list = [-28, -22, -21, 9, 25, 35, 40, 34, 24, 16, -11, -22]\n",
    "record_low_array = np.array(record_low_list)\n",
    "record_low_celsius = 5/9 * (record_low_array - 32)\n",
    "\n",
    "# Finding the min, max, argmax and mean\n",
    "min_temp = np.min(record_low_celsius)\n",
    "max_temp = np.max(record_low_celsius)\n",
    "argmax_temp = np.argmax(record_low_celsius)\n",
    "mean_temp = np.mean(record_low_celsius)\n",
    "\n",
    "# Printing out the information.\n",
    "print(\"The temperatures in Celsius are:\\n\", record_low_celsius, \"\\n\")\n",
    "print(\"The minimum temperature is \", min_temp, \"\\n\")\n",
    "print(\"The maximum temperature is \", min_temp, \"\\n\")\n",
    "print(\"The index of the maximum temperature is \", argmax_temp, \"\\n\")\n",
    "print(\"The average temperature is \", mean_temp)"
   ]
  },
  {
   "cell_type": "markdown",
   "metadata": {},
   "source": [
    "## Exercise 1:  Making the Months"
   ]
  },
  {
   "cell_type": "markdown",
   "metadata": {},
   "source": [
    "Make an array of the numbers from 1 to 12 representing the months of the year."
   ]
  },
  {
   "cell_type": "code",
   "execution_count": 2,
   "metadata": {},
   "outputs": [
    {
     "data": {
      "text/plain": [
       "array([ 1,  2,  3,  4,  5,  6,  7,  8,  9, 10, 11, 12])"
      ]
     },
     "execution_count": 2,
     "metadata": {},
     "output_type": "execute_result"
    }
   ],
   "source": [
    "# The array of months.\n",
    "months = np.arange(1, 13)\n",
    "months"
   ]
  },
  {
   "cell_type": "markdown",
   "metadata": {},
   "source": [
    "## Exercise 2: Import MatPlotLib as plt."
   ]
  },
  {
   "cell_type": "code",
   "execution_count": 3,
   "metadata": {},
   "outputs": [],
   "source": [
    "# Import matplotlib\n",
    "import matplotlib.pyplot as plt"
   ]
  },
  {
   "cell_type": "markdown",
   "metadata": {},
   "source": [
    "## Exercise 3:  Make a Bar Plot"
   ]
  },
  {
   "cell_type": "markdown",
   "metadata": {},
   "source": [
    "Make a bar plot of the temperatures in <b>record_low_celsius</b> with a fitting xlabel and ylabel."
   ]
  },
  {
   "cell_type": "code",
   "execution_count": 4,
   "metadata": {},
   "outputs": [
    {
     "data": {
      "image/png": "[encoded data removed]",
      "text/plain": [
       "<Figure size 432x288 with 1 Axes>"
      ]
     },
     "metadata": {
      "needs_background": "light"
     },
     "output_type": "display_data"
    }
   ],
   "source": [
    "# Make the bar plot\n",
    "plt.bar(months, record_low_celsius)\n",
    "\n",
    "# Write the xlabels and the ylabels\n",
    "plt.xlabel(\"Month\")\n",
    "plt.ylabel(\"Temperature in Celsius\")\n",
    "\n",
    "# Show the plot\n",
    "plt.show()"
   ]
  },
  {
   "cell_type": "markdown",
   "metadata": {},
   "source": [
    "## Exercise 4: Approximating Temperatures Using Cosine"
   ]
  },
  {
   "cell_type": "markdown",
   "metadata": {},
   "source": [
    "This exercise is a bit tricky, but we will do it in several steps. The end goal is to find a function which approximates the temperatures above."
   ]
  },
  {
   "cell_type": "markdown",
   "metadata": {},
   "source": [
    "### Exercise 4a: \n",
    "Find the amplitude and the month number with the highest temperature."
   ]
  },
  {
   "cell_type": "markdown",
   "metadata": {},
   "source": [
    "The amplitude is defined to be $$\\frac{max-min}{2}.$$ Find the amplitude using <b>min_temp</b> and <b>max_temp</b> defined previously. Use <b>argmax_temp</b> to find the month with the highest temperature."
   ]
  },
  {
   "cell_type": "code",
   "execution_count": 5,
   "metadata": {},
   "outputs": [],
   "source": [
    "# Computing the amplitude\n",
    "amplitude = (max_temp - min_temp)/2\n",
    "\n",
    "# Month with highest temperature\n",
    "max_temp_month = argmax_temp + 1"
   ]
  },
  {
   "cell_type": "markdown",
   "metadata": {},
   "source": [
    "### Exercise 4b: \n",
    "Find the vector $$2*\\pi*\\frac{months-max\\_temp\\_month}{12}.$$"
   ]
  },
  {
   "cell_type": "code",
   "execution_count": 6,
   "metadata": {},
   "outputs": [],
   "source": [
    "# Computing the vector described above\n",
    "inter_values = 2 * np.pi * (months - max_temp_month)/12"
   ]
  },
  {
   "cell_type": "markdown",
   "metadata": {},
   "source": [
    "### Exercise 4c: \n",
    "Find an approximation for the temperatures each month by using the formula\n",
    "$$amplitude *\\cos\\left(2*\\pi*\\frac{months-max\\_temp\\_month}{12}\\right)+mean\\_temp$$"
   ]
  },
  {
   "cell_type": "code",
   "execution_count": 7,
   "metadata": {},
   "outputs": [],
   "source": [
    "# Computing the approximated temperatures\n",
    "approx_temp = amplitude * np.cos(inter_values) + mean_temp"
   ]
  },
  {
   "cell_type": "markdown",
   "metadata": {},
   "source": [
    "## Exercise 5: Plot the Difference"
   ]
  },
  {
   "cell_type": "markdown",
   "metadata": {},
   "source": [
    "In this exercise we are going to check how close our approximation is. We first calculate the absolte value of the difference between the actual values and the approximated values. Secondly, we plot the differences. "
   ]
  },
  {
   "cell_type": "code",
   "execution_count": 8,
   "metadata": {},
   "outputs": [
    {
     "data": {
      "text/plain": [
       "<BarContainer object of 12 artists>"
      ]
     },
     "execution_count": 8,
     "metadata": {},
     "output_type": "execute_result"
    },
    {
     "data": {
      "image/png": "[encoded data removed]",
      "text/plain": [
       "<Figure size 432x288 with 1 Axes>"
      ]
     },
     "metadata": {
      "needs_background": "light"
     },
     "output_type": "display_data"
    }
   ],
   "source": [
    "# Take the absolute value of the difference \n",
    "abs_difference = np.abs(record_low_celsius - approx_temp)\n",
    "\n",
    "# Plot the difference in a bar plot\n",
    "plt.bar(months, abs_difference)"
   ]
  },
  {
   "cell_type": "markdown",
   "metadata": {},
   "source": [
    "## Exercise 6: Plot the Function"
   ]
  },
  {
   "cell_type": "markdown",
   "metadata": {},
   "source": [
    "Plot the function $$f(x)= amplitude *\\cos\\left(2*\\pi*\\frac{x-max\\_temp\\_month}{12}\\right)+mean\\_temp$$ for values between 1 and 12."
   ]
  },
  {
   "cell_type": "code",
   "execution_count": 2,
   "metadata": {},
   "outputs": [
    {
     "ename": "NameError",
     "evalue": "name 'amplitude' is not defined",
     "output_type": "error",
     "traceback": [
      "\u001b[1;31m---------------------------------------------------------------------------\u001b[0m",
      "\u001b[1;31mNameError\u001b[0m                                 Traceback (most recent call last)",
      "\u001b[1;32m<ipython-input-2-bdffbd8c57f7>\u001b[0m in \u001b[0;36m<module>\u001b[1;34m\u001b[0m\n\u001b[0;32m      3\u001b[0m \u001b[1;33m\u001b[0m\u001b[0m\n\u001b[0;32m      4\u001b[0m \u001b[1;31m# Compute the y_values\u001b[0m\u001b[1;33m\u001b[0m\u001b[1;33m\u001b[0m\u001b[1;33m\u001b[0m\u001b[0m\n\u001b[1;32m----> 5\u001b[1;33m \u001b[0my_values\u001b[0m \u001b[1;33m=\u001b[0m \u001b[0mamplitude\u001b[0m \u001b[1;33m*\u001b[0m \u001b[0mnp\u001b[0m\u001b[1;33m.\u001b[0m\u001b[0mcos\u001b[0m\u001b[1;33m(\u001b[0m\u001b[1;36m2\u001b[0m \u001b[1;33m*\u001b[0m \u001b[0mnp\u001b[0m\u001b[1;33m.\u001b[0m\u001b[0mpi\u001b[0m \u001b[1;33m*\u001b[0m \u001b[1;33m(\u001b[0m\u001b[0mx_values\u001b[0m \u001b[1;33m-\u001b[0m \u001b[0mmax_temp_month\u001b[0m\u001b[1;33m)\u001b[0m\u001b[1;33m/\u001b[0m\u001b[1;36m12\u001b[0m\u001b[1;33m)\u001b[0m \u001b[1;33m+\u001b[0m \u001b[0mmean_temp\u001b[0m\u001b[1;33m\u001b[0m\u001b[1;33m\u001b[0m\u001b[0m\n\u001b[0m\u001b[0;32m      6\u001b[0m \u001b[1;33m\u001b[0m\u001b[0m\n\u001b[0;32m      7\u001b[0m \u001b[1;31m# Plot the function\u001b[0m\u001b[1;33m\u001b[0m\u001b[1;33m\u001b[0m\u001b[1;33m\u001b[0m\u001b[0m\n",
      "\u001b[1;31mNameError\u001b[0m: name 'amplitude' is not defined"
     ]
    }
   ],
   "source": [
    "# Make 100 points between 0 and 12\n",
    "x_values = np.linspace(0, 12, 100)\n",
    "\n",
    "# Compute the y_values\n",
    "y_values = amplitude * np.cos(2 * np.pi * (x_values - max_temp_month)/12) + mean_temp\n",
    "\n",
    "# Plot the function\n",
    "plt.plot(x_values, y_values)\n",
    "\n",
    "# Show the function\n",
    "plt.show()"
   ]
  },
  {
   "cell_type": "markdown",
   "metadata": {},
   "source": [
    "## Moral of the Story"
   ]
  },
  {
   "cell_type": "markdown",
   "metadata": {},
   "source": [
    "In this exercise set, we have seen that plotting can be a helpful tool for understanding what is going on. The library MatPlotLib is often seen together with NumPy and is the most used library for data visualization with Python. One often uses MatPlotLib as a companion to NumPy when understanding the data one has is useful."
   ]
  }
 ],
 "metadata": {
  "kernelspec": {
   "display_name": "Python 3",
   "language": "python",
   "name": "python3"
  },
  "language_info": {
   "codemirror_mode": {
    "name": "ipython",
    "version": 3
   },
   "file_extension": ".py",
   "mimetype": "text/x-python",
   "name": "python",
   "nbconvert_exporter": "python",
   "pygments_lexer": "ipython3",
   "version": "3.8.5"
  }
 },
 "nbformat": 4,
 "nbformat_minor": 4
}
