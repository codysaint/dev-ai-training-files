{
 "cells": [
  {
   "cell_type": "markdown",
   "metadata": {},
   "source": [
    "# 11 Exercise - Saving and Loading Data"
   ]
  },
  {
   "cell_type": "markdown",
   "metadata": {},
   "source": [
    "In this final exercise set, we are going to go through how to save and load data. Since this is a final exercise set we will use several things that we learned previously in the course. We will use the \"Boston dataset\" containing information about houses sold in the Boston area. Below is a description of the columns and rows of the dataset."
   ]
  },
  {
   "cell_type": "markdown",
   "metadata": {},
   "source": [
    "## Boston House Prices Dataset\n",
    "<b>Data Set Characteristics:</b>\n",
    "\n",
    " - Number of Instances (Rows): 506\n",
    " - Number of Attributes (Columns): 14\n",
    " - Attribute Information (in order):  \n",
    "  - Column 00 - Per capita crime rate by town\n",
    "  - Column 01 - Proportion of residential land zoned for lots over 25,000 sq.ft.\n",
    "  - Column 02 - Proportion of non-retail business acres per town\n",
    "  - Column 03 - Charles River dummy variable (= 1 if tract bounds river; 0 otherwise)\n",
    "  - Column 04 - Nitric oxides concentration (parts per 10 million)\n",
    "  - Column 05 - Average number of rooms per dwelling\n",
    "  - Column 06 - Proportion of owner-occupied units built prior to 1940\n",
    "  - Column 07 - Weighted distances to five Boston employment centers\n",
    "  - Column 08 - Index of accessibility to radial highways\n",
    "  - Column 09 - Full-value property-tax rate per \\\\$10,000\n",
    "  - Column 10 - Pupil-teacher ratio by town\n",
    "  - Column 11 - $1000(Bk - 0.63)^2$ where $Bk$ is the proportion of blacks by town\n",
    "  - Column 12 - Lower status percentage of the population\n",
    "  - Column 13 - Median value of owner-occupied homes in \\\\$1000's\n",
    "        \n",
    " - Missing Attribute Values: None  \n",
    " - Creator: Harrison, D. and Rubinfeld, D.L.\n",
    "    \n",
    "----------------------------\n",
    "\n",
    "This is a copy of UCI ML housing dataset.\n",
    "\n",
    "https://archive.ics.uci.edu/ml/machine-learning-databases/housing/\n",
    "\n",
    "This dataset was taken from the StatLib library which is maintained at Carnegie Mellon University.\n",
    "This particular version of the dataset is taken from the package sklearn."
   ]
  },
  {
   "cell_type": "markdown",
   "metadata": {},
   "source": [
    "## Exercise 1: Import the Packages"
   ]
  },
  {
   "cell_type": "code",
   "execution_count": 1,
   "metadata": {},
   "outputs": [],
   "source": [
    "# Import NumPy and MatPlotLib\n"
   ]
  },
  {
   "cell_type": "markdown",
   "metadata": {},
   "source": [
    "## Exercise 2: Read in the File"
   ]
  },
  {
   "cell_type": "markdown",
   "metadata": {},
   "source": [
    "Let us now read in the Boston dataset from a file."
   ]
  },
  {
   "cell_type": "code",
   "execution_count": 2,
   "metadata": {},
   "outputs": [],
   "source": [
    "# Read in the boston.csv file as a NumPy array. Call the variable \"boston\".\n",
    "\n",
    "# HINT: You should specify that delimiter=\",\".\n",
    "\n",
    "# Find the shape of the dataset.\n"
   ]
  },
  {
   "cell_type": "markdown",
   "metadata": {},
   "source": [
    "Try to print out the Boston dataset. What happens to the printed object? Why do you think this happens?"
   ]
  },
  {
   "cell_type": "code",
   "execution_count": 3,
   "metadata": {},
   "outputs": [],
   "source": [
    "# Print out the dataset\n"
   ]
  },
  {
   "cell_type": "markdown",
   "metadata": {},
   "source": [
    "## Exercise 3: Plotting the Rooms"
   ]
  },
  {
   "cell_type": "markdown",
   "metadata": {},
   "source": [
    "Plot a histogram using the average number of rooms (column 5). Are there any houses with an average over 10 rooms?"
   ]
  },
  {
   "cell_type": "code",
   "execution_count": 4,
   "metadata": {},
   "outputs": [],
   "source": [
    "# Plot a histogram using the average number of rooms.\n"
   ]
  },
  {
   "cell_type": "markdown",
   "metadata": {},
   "source": [
    "Plot the price of the houses (column 13) as a histogram. Where is the peak (also called the mode) of the histogram?"
   ]
  },
  {
   "cell_type": "code",
   "execution_count": 5,
   "metadata": {},
   "outputs": [],
   "source": [
    "# Plot the price of the houses as a histogram.\n"
   ]
  },
  {
   "cell_type": "markdown",
   "metadata": {},
   "source": [
    "Create a scatter plot over number of rooms (column 5) and the house price (column 13). Can you see a trend?"
   ]
  },
  {
   "cell_type": "code",
   "execution_count": 6,
   "metadata": {},
   "outputs": [],
   "source": [
    "# Create a scatter plot over number of rooms and the house price.\n"
   ]
  },
  {
   "cell_type": "markdown",
   "metadata": {},
   "source": [
    "## Exercise 4: Count Riverside Houses"
   ]
  },
  {
   "cell_type": "markdown",
   "metadata": {},
   "source": [
    "The third column in the dataset is represented by what is called a <b>dummy variable</b>. This is when one represents different categories with numbers. In our case, the two categories are represented by\n",
    "\n",
    "- House by the riverside - 1\n",
    "- House not by the riverside - 0"
   ]
  },
  {
   "cell_type": "code",
   "execution_count": 7,
   "metadata": {},
   "outputs": [],
   "source": [
    "# Use NumPy to figure out how many of the houses is by the river (column 3).\n"
   ]
  },
  {
   "cell_type": "code",
   "execution_count": 8,
   "metadata": {},
   "outputs": [],
   "source": [
    "# How many percent of the total houses sold was by the river?\n"
   ]
  },
  {
   "cell_type": "markdown",
   "metadata": {},
   "source": [
    "## Exercise 5: Averages, min, and max."
   ]
  },
  {
   "cell_type": "code",
   "execution_count": 9,
   "metadata": {},
   "outputs": [],
   "source": [
    "# What is the average, min, and max in each column?\n"
   ]
  },
  {
   "cell_type": "code",
   "execution_count": 10,
   "metadata": {},
   "outputs": [],
   "source": [
    "# In particular, what is the average, max, and min price (column 13) in dollars of the houses?\n"
   ]
  },
  {
   "cell_type": "markdown",
   "metadata": {},
   "source": [
    "## Exercise 6: Cheap Housing"
   ]
  },
  {
   "cell_type": "markdown",
   "metadata": {},
   "source": [
    "Let us say that a cheap house is a house that costs less than \\\\$10 000. Below you will find out how many cheap houses that are in the Boston area."
   ]
  },
  {
   "cell_type": "code",
   "execution_count": 11,
   "metadata": {},
   "outputs": [],
   "source": [
    "# Find the number of cheap houses.\n"
   ]
  },
  {
   "cell_type": "markdown",
   "metadata": {},
   "source": [
    "Does the cheap houses have a higher crime rate (column 0) than an average priced house? Let us say that the average priced houses has a price between \\\\$15 000 and \\\\$30 000."
   ]
  },
  {
   "cell_type": "code",
   "execution_count": 12,
   "metadata": {},
   "outputs": [],
   "source": [
    "# Find the mean crime rate for cheap houses\n",
    "\n",
    "# Find the mean crime rate for average priced houses\n",
    "\n",
    "# Compare the two numbers\n"
   ]
  },
  {
   "cell_type": "markdown",
   "metadata": {},
   "source": [
    "## Exercise 7: Save the Data"
   ]
  },
  {
   "cell_type": "markdown",
   "metadata": {},
   "source": [
    "Now is the time to save the data for later. We are only interested in the columns 0, 3, 5, and 13, so we will only save those."
   ]
  },
  {
   "cell_type": "code",
   "execution_count": 13,
   "metadata": {},
   "outputs": [],
   "source": [
    "# Define a new array called short_boston with the columns 0, 3, 5, 13 from the boston array.\n",
    "\n",
    "# Save the array short_boston as a numpy object for later.\n"
   ]
  },
  {
   "cell_type": "markdown",
   "metadata": {},
   "source": [
    "## Moral of the Story"
   ]
  },
  {
   "cell_type": "markdown",
   "metadata": {},
   "source": [
    "Rather than typing in NumPy arrays by hand, it is more common in practice to load data from an external file. We have seen that the file can be a text file, a csv file, or a NumPy file. When one is finished working with the data, then one can save the data into the appropriate format for later use. A great place to find more data to play around with is the site Kaggle: https://www.kaggle.com/"
   ]
  }
 ],
 "metadata": {
  "kernelspec": {
   "display_name": "Python 3",
   "language": "python",
   "name": "python3"
  },
  "language_info": {
   "codemirror_mode": {
    "name": "ipython",
    "version": 3
   },
   "file_extension": ".py",
   "mimetype": "text/x-python",
   "name": "python",
   "nbconvert_exporter": "python",
   "pygments_lexer": "ipython3",
   "version": "3.8.5"
  }
 },
 "nbformat": 4,
 "nbformat_minor": 4
}
