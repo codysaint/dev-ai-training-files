{
 "cells": [
  {
   "cell_type": "markdown",
   "metadata": {},
   "source": [
    "# 11 Exercise Solution - Saving and Loading Data"
   ]
  },
  {
   "cell_type": "markdown",
   "metadata": {},
   "source": [
    "In this final exercise set, we are going to go through how to save and load data. Since this is a final exercise set we will use several things that we learned previously in the course. We will use the \"Boston dataset\" containing information about housing areas in the Boston. Below is a description of the columns and rows of the dataset."
   ]
  },
  {
   "cell_type": "markdown",
   "metadata": {},
   "source": [
    "## Boston House Prices Dataset\n",
    "<b>Data Set Characteristics:</b>\n",
    "\n",
    " - Number of Instances (Rows): 506\n",
    " - Number of Attributes (Columns): 14\n",
    " - Attribute Information (in order):  \n",
    "  - Column 00 - Per capita crime rate by town\n",
    "  - Column 01 - Proportion of residential land zoned for lots over 25,000 sq.ft.\n",
    "  - Column 02 - Proportion of non-retail business acres per town\n",
    "  - Column 03 - Charles River dummy variable (= 1 if tract bounds river; 0 otherwise)\n",
    "  - Column 04 - Nitric oxides concentration (parts per 10 million)\n",
    "  - Column 05 - Average number of rooms per dwelling\n",
    "  - Column 06 - Proportion of owner-occupied units built prior to 1940\n",
    "  - Column 07 - Weighted distances to five Boston employment centers\n",
    "  - Column 08 - Index of accessibility to radial highways\n",
    "  - Column 09 - Full-value property-tax rate per \\\\$10,000\n",
    "  - Column 10 - Pupil-teacher ratio by town\n",
    "  - Column 11 - $1000(Bk - 0.63)^2$ where $Bk$ is the proportion of blacks by town\n",
    "  - Column 12 - Lower status percentage of the population\n",
    "  - Column 13 - Median value of owner-occupied homes in \\\\$1000's\n",
    "        \n",
    " - Missing Attribute Values: None  \n",
    " - Creator: Harrison, D. and Rubinfeld, D.L.\n",
    "    \n",
    "----------------------------\n",
    "\n",
    "This is a copy of UCI ML housing dataset.\n",
    "\n",
    "https://archive.ics.uci.edu/ml/machine-learning-databases/housing/\n",
    "\n",
    "This dataset was taken from the StatLib library which is maintained at Carnegie Mellon University.\n",
    "This particular version of the dataset is taken from the package sklearn."
   ]
  },
  {
   "cell_type": "markdown",
   "metadata": {},
   "source": [
    "## Exercise 1: Import the Packages"
   ]
  },
  {
   "cell_type": "code",
   "execution_count": 2,
   "metadata": {},
   "outputs": [],
   "source": [
    "# Import NumPy and MatPlotLib\n",
    "import numpy as np\n",
    "import matplotlib.pyplot as plt"
   ]
  },
  {
   "cell_type": "markdown",
   "metadata": {},
   "source": [
    "## Exercise 2: Read in the File"
   ]
  },
  {
   "cell_type": "markdown",
   "metadata": {},
   "source": [
    "Let us now read in the Boston dataset from a file."
   ]
  },
  {
   "cell_type": "code",
   "execution_count": 3,
   "metadata": {},
   "outputs": [
    {
     "name": "stdout",
     "output_type": "stream",
     "text": [
      "The shape is:  (506, 14)\n"
     ]
    }
   ],
   "source": [
    "# Read in the boston.csv file as a NumPy array. Call the variable \"boston\".\n",
    "boston = np.loadtxt(\"boston.csv\", delimiter=\",\")\n",
    "\n",
    "# HINT: You should specify that delimiter=\",\".\n",
    "\n",
    "# Find the shape of the dataset.\n",
    "print(\"The shape is: \", boston.shape)"
   ]
  },
  {
   "cell_type": "markdown",
   "metadata": {},
   "source": [
    "Try to print out the Boston dataset. What happens to the printed object? Why do you think this happens?"
   ]
  },
  {
   "cell_type": "code",
   "execution_count": 4,
   "metadata": {},
   "outputs": [
    {
     "name": "stdout",
     "output_type": "stream",
     "text": [
      "[[6.3000e-03 1.8000e+01 2.3100e+00 ... 3.9690e+02 4.9800e+00 2.4000e+01]\n",
      " [2.7300e-02 0.0000e+00 7.0700e+00 ... 3.9690e+02 9.1400e+00 2.1600e+01]\n",
      " [2.7300e-02 0.0000e+00 7.0700e+00 ... 3.9283e+02 4.0300e+00 3.4700e+01]\n",
      " ...\n",
      " [6.0800e-02 0.0000e+00 1.1930e+01 ... 3.9690e+02 5.6400e+00 2.3900e+01]\n",
      " [1.0960e-01 0.0000e+00 1.1930e+01 ... 3.9345e+02 6.4800e+00 2.2000e+01]\n",
      " [4.7400e-02 0.0000e+00 1.1930e+01 ... 3.9690e+02 7.8800e+00 1.1900e+01]]\n"
     ]
    }
   ],
   "source": [
    "# Print out the dataset\n",
    "print(boston)"
   ]
  },
  {
   "cell_type": "markdown",
   "metadata": {},
   "source": [
    "<i>Commentary:</i> Note that not all the data is displayed. This is due too it taking to much space to show over 500 rows."
   ]
  },
  {
   "cell_type": "markdown",
   "metadata": {},
   "source": [
    "## Exercise 3: Plotting the Rooms"
   ]
  },
  {
   "cell_type": "markdown",
   "metadata": {},
   "source": [
    "Plot a histogram using the average number of rooms (column 5). Are there any areas with an average over 10 rooms?"
   ]
  },
  {
   "cell_type": "code",
   "execution_count": 14,
   "metadata": {},
   "outputs": [
    {
     "data": {
      "image/png": "[encoded data removed]",
      "text/plain": [
       "<Figure size 432x288 with 1 Axes>"
      ]
     },
     "metadata": {
      "needs_background": "light"
     },
     "output_type": "display_data"
    }
   ],
   "source": [
    "# Plot a histogram using the average number of rooms.\n",
    "plt.hist(boston[:, 5])\n",
    "plt.title(\"Number of Rooms\")\n",
    "plt.xlabel(\"Rooms\")\n",
    "plt.ylabel(\"Housing Areas\")\n",
    "\n",
    "plt.show()"
   ]
  },
  {
   "cell_type": "markdown",
   "metadata": {},
   "source": [
    "<i>Commentary:</i> There are no houses with an average above 10 rooms."
   ]
  },
  {
   "cell_type": "markdown",
   "metadata": {},
   "source": [
    "Plot the median price of the housing areas (column 13) as a histogram. Where is the peak (also called the mode) of the histogram?"
   ]
  },
  {
   "cell_type": "code",
   "execution_count": 6,
   "metadata": {},
   "outputs": [
    {
     "data": {
      "image/png": "[encoded data removed]",
      "text/plain": [
       "<Figure size 432x288 with 1 Axes>"
      ]
     },
     "metadata": {
      "needs_background": "light"
     },
     "output_type": "display_data"
    }
   ],
   "source": [
    "# Plot the price of the houses as a histogram.\n",
    "plt.hist(boston[:, 13])\n",
    "plt.title(\"Price of Housing Area\")\n",
    "plt.xlabel(\"Price\")\n",
    "plt.ylabel(\"Number of Areas\")\n",
    "\n",
    "plt.show()"
   ]
  },
  {
   "cell_type": "markdown",
   "metadata": {},
   "source": [
    "<i>Commentary:</i> The peak of the histogram is around \\\\$20 000."
   ]
  },
  {
   "cell_type": "markdown",
   "metadata": {},
   "source": [
    "Create a scatter plot over number of rooms (column 5) and the house price (column 13). Can you see a trend?"
   ]
  },
  {
   "cell_type": "code",
   "execution_count": 7,
   "metadata": {},
   "outputs": [
    {
     "data": {
      "image/png": "[encoded data removed]",
      "text/plain": [
       "<Figure size 432x288 with 1 Axes>"
      ]
     },
     "metadata": {
      "needs_background": "light"
     },
     "output_type": "display_data"
    }
   ],
   "source": [
    "# Create a scatter plot over number of rooms and the house price.\n",
    "plt.scatter(boston[:, 5], boston[:, 13])\n",
    "plt.title(\"Rooms Vs. Price\")\n",
    "plt.xlabel(\"Rooms\")\n",
    "plt.ylabel(\"Price of Area\")\n",
    "\n",
    "plt.show()"
   ]
  },
  {
   "cell_type": "markdown",
   "metadata": {},
   "source": [
    "<i>Commentary:</i> The trend is that more expensive housing area tend to have more rooms on average."
   ]
  },
  {
   "cell_type": "markdown",
   "metadata": {},
   "source": [
    "## Exercise 4: Count Riverside Area"
   ]
  },
  {
   "cell_type": "markdown",
   "metadata": {},
   "source": [
    "The third column in the dataset is represented by what is called a <b>dummy variable</b>. This is when one represents different categories with numbers. In our case, the two categories are represented by\n",
    "\n",
    "- Area by the riverside - 1\n",
    "- Area not by the riverside - 0"
   ]
  },
  {
   "cell_type": "code",
   "execution_count": 8,
   "metadata": {},
   "outputs": [
    {
     "name": "stdout",
     "output_type": "stream",
     "text": [
      "There are 35.0 housing areas by the river.\n",
      "\n"
     ]
    }
   ],
   "source": [
    "# Use NumPy to figure out how many of the housing areas are by the river (column 3).\n",
    "river_houses = boston[:, 3].sum()\n",
    "print(f\"There are {river_houses} housing areas by the river.\\n\")"
   ]
  },
  {
   "cell_type": "code",
   "execution_count": null,
   "metadata": {},
   "outputs": [],
   "source": [
    "# How many percent of the housing areas were by the river?\n",
    "percent_by_river = 100 * river_houses/boston.shape[0]\n",
    "print(f\"Of the total housing areas {percent_by_river:.2f}% are by the river\")\n",
    "\n",
    "# Alternative solution: 100*boston[:,3].mean()"
   ]
  },
  {
   "cell_type": "markdown",
   "metadata": {},
   "source": [
    "## Exercise 5: Averages, min, and max."
   ]
  },
  {
   "cell_type": "code",
   "execution_count": 11,
   "metadata": {},
   "outputs": [
    {
     "name": "stdout",
     "output_type": "stream",
     "text": [
      "Mean:\n",
      "[3.600e+00 1.140e+01 1.110e+01 1.000e-01 6.000e-01 6.300e+00 6.860e+01\n",
      " 3.800e+00 9.500e+00 4.082e+02 1.850e+01 3.567e+02 1.270e+01 2.250e+01]\n",
      "\n",
      "Minimum:\n",
      "[6.3000e-03 0.0000e+00 4.6000e-01 0.0000e+00 3.8500e-01 3.5610e+00\n",
      " 2.9000e+00 1.1296e+00 1.0000e+00 1.8700e+02 1.2600e+01 3.2000e-01\n",
      " 1.7300e+00 5.0000e+00]\n",
      "\n",
      "Maximum:\n",
      "[ 88.9762 100.      27.74     1.       0.871    8.78   100.      12.1265\n",
      "  24.     711.      22.     396.9     37.97    50.    ]\n",
      "\n",
      "\n"
     ]
    }
   ],
   "source": [
    "# What is the average, min, and max in each column?\n",
    "mean_col = boston.mean(axis=0)\n",
    "round_mean_col = np.around(mean_col, decimals=1)\n",
    "\n",
    "min_col = boston.min(axis=0)\n",
    "\n",
    "max_col = boston.max(axis=0)\n",
    "print(f\"Mean:\\n{round_mean_col}\\n\\nMinimum:\\n{min_col}\\n\\nMaximum:\\n{max_col}\\n\\n\")"
   ]
  },
  {
   "cell_type": "code",
   "execution_count": 13,
   "metadata": {},
   "outputs": [
    {
     "name": "stdout",
     "output_type": "stream",
     "text": [
      "The average price is $22533, the minimum is $5000, and the maximum is $50000.\n"
     ]
    }
   ],
   "source": [
    "# In particular, what is the average, max, and min price (column 13) in dollars of the housing areas?\n",
    "mean_price = 1000 * mean_col[13]\n",
    "min_price = 1000 * min_col[13]\n",
    "max_price = 1000 * max_col[13]\n",
    "\n",
    "print(f\"The average price is ${mean_price:.0f}, the minimum is ${min_price:.0f}, and the maximum is ${max_price:.0f}.\")"
   ]
  },
  {
   "cell_type": "markdown",
   "metadata": {},
   "source": [
    "## Exercise 6: Cheap Housing"
   ]
  },
  {
   "cell_type": "markdown",
   "metadata": {},
   "source": [
    "Let us say that a cheap housing area is a area with a median of less than \\\\$10 000. Below you will find out how many cheap areas that are in the Boston area."
   ]
  },
  {
   "cell_type": "code",
   "execution_count": 11,
   "metadata": {},
   "outputs": [
    {
     "name": "stdout",
     "output_type": "stream",
     "text": [
      "There are 24 cheap areas.\n"
     ]
    }
   ],
   "source": [
    "# Find the number of cheap areas\n",
    "cheap_areas = boston[boston[:, 13] < 10]\n",
    "num_of_cheap_houses = cheap_areas.shape[0]\n",
    "print(f\"There are {num_of_cheap_houses} cheap areas.\")"
   ]
  },
  {
   "cell_type": "markdown",
   "metadata": {},
   "source": [
    "Does the cheap areas have a higher crime rate (column 0) than an average priced area? Let us say that the average priced area have a median price between \\\\$15 000 and \\\\$30 000."
   ]
  },
  {
   "cell_type": "code",
   "execution_count": 12,
   "metadata": {},
   "outputs": [
    {
     "name": "stdout",
     "output_type": "stream",
     "text": [
      "The statement is True. The cheap areas have a crime rate of 22.06, and in the average areas we have a crime rate of 1.50\n"
     ]
    }
   ],
   "source": [
    "# Find the mean crime rate for cheap houses\n",
    "mean_crime_rate_cheap = cheap_areas[:, 0].mean()\n",
    "\n",
    "# Find the mean crime rate for average priced houses\n",
    "average_priced_areas = boston[(15 < boston[:, 13]) & (boston[:, 13] < 30)]\n",
    "mean_crime_rate_average = average_priced_areas[:, 0].mean()\n",
    "\n",
    "# Compare the two numbers\n",
    "higher_crime_rate = mean_crime_rate_average < mean_crime_rate_cheap\n",
    "\n",
    "print(f\"The statement is {higher_crime_rate}. \\\n",
    "The cheap areas have a crime rate of {mean_crime_rate_cheap:.2f}, \\\n",
    "and in the average areas we have a crime rate of {mean_crime_rate_average:.2f}\")"
   ]
  },
  {
   "cell_type": "markdown",
   "metadata": {},
   "source": [
    "## Exercise 7: Save the Data"
   ]
  },
  {
   "cell_type": "markdown",
   "metadata": {},
   "source": [
    "Now is the time to save the data for later. We are only interested in the columns 0, 3, 5, and 13, so we will only save those."
   ]
  },
  {
   "cell_type": "code",
   "execution_count": 19,
   "metadata": {},
   "outputs": [],
   "source": [
    "# Define a new array called short_boston with the columns 0, 3, 5, 13 from the boston array.\n",
    "short_boston = boston[:, [0, 3, 5, 13]]\n",
    "\n",
    "# Save the array short_boston as a numpy object for later.\n",
    "np.save(\"Short Boston\", short_boston)"
   ]
  },
  {
   "cell_type": "markdown",
   "metadata": {},
   "source": [
    "## Moral of the Story"
   ]
  },
  {
   "cell_type": "markdown",
   "metadata": {},
   "source": [
    "Rather than typing in NumPy arrays by hand, it is more common in practice to load data from an external file. We have seen that the file can be a text file, a csv file, or a NumPy file. When one is finished working with the data, then one can save the data into the appropriate format for later use. A great place to find more data to play around with is the site Kaggle: https://www.kaggle.com/"
   ]
  }
 ],
 "metadata": {
  "kernelspec": {
   "display_name": "Python 3",
   "language": "python",
   "name": "python3"
  },
  "language_info": {
   "codemirror_mode": {
    "name": "ipython",
    "version": 3
   },
   "file_extension": ".py",
   "mimetype": "text/x-python",
   "name": "python",
   "nbconvert_exporter": "python",
   "pygments_lexer": "ipython3",
   "version": "3.8.5"
  }
 },
 "nbformat": 4,
 "nbformat_minor": 4
}
