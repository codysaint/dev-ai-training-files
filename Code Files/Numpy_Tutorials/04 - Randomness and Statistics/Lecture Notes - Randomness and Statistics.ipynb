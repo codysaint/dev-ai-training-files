{
 "cells": [
  {
   "cell_type": "markdown",
   "metadata": {},
   "source": [
    "# Randomness and Statistics"
   ]
  },
  {
   "cell_type": "markdown",
   "metadata": {},
   "source": [
    "<b>Functions used in this sheet:</b> from numpy import random, random.default_rng(), .integers(), .random(), .shuffle(), .choice(), .normal(), np.unique()"
   ]
  },
  {
   "cell_type": "markdown",
   "metadata": {},
   "source": [
    "### Random Numbers 1 - Generators and Random Integers"
   ]
  },
  {
   "cell_type": "code",
   "execution_count": 28,
   "metadata": {},
   "outputs": [
    {
     "data": {
      "text/plain": [
       "numpy.random._generator.Generator"
      ]
     },
     "execution_count": 28,
     "metadata": {},
     "output_type": "execute_result"
    }
   ],
   "source": [
    "from numpy import random\n",
    "\n",
    "rng = random.default_rng(101) # This initiates a \"Generator\" object\n",
    "type(rng) "
   ]
  },
  {
   "cell_type": "code",
   "execution_count": 30,
   "metadata": {},
   "outputs": [
    {
     "data": {
      "text/plain": [
       "array([ 5, 10,  8,  8,  7,  8,  5,  1,  9,  4], dtype=int64)"
      ]
     },
     "execution_count": 30,
     "metadata": {},
     "output_type": "execute_result"
    }
   ],
   "source": [
    "rng.integers(0, 10, size=10, endpoint=True)"
   ]
  },
  {
   "cell_type": "code",
   "execution_count": 13,
   "metadata": {},
   "outputs": [
    {
     "data": {
      "text/plain": [
       "array([0, 1, 1, 0, 1, 1, 1, 0, 1, 0, 0, 1, 0, 0, 1, 1, 0, 1, 0, 1, 1, 1,\n",
       "       1, 0, 1, 0, 0, 1, 1, 1, 0, 1, 0, 1, 0, 1, 0, 1, 0, 1, 0, 1, 0, 1,\n",
       "       1, 1, 1, 1, 0, 0, 1, 1, 0, 0, 0, 1, 0, 1, 0, 0, 0, 0, 0, 1],\n",
       "      dtype=int64)"
      ]
     },
     "execution_count": 13,
     "metadata": {},
     "output_type": "execute_result"
    }
   ],
   "source": [
    "# Random bits\n",
    "rng.integers(2, size=64)"
   ]
  },
  {
   "cell_type": "markdown",
   "metadata": {},
   "source": [
    "### Random Numbers 2 - Random, Shuffle, and Choice"
   ]
  },
  {
   "cell_type": "code",
   "execution_count": 32,
   "metadata": {},
   "outputs": [
    {
     "name": "stdout",
     "output_type": "stream",
     "text": [
      "[0.66840296 0.47109621 0.56523611 0.76499886 0.63471832 0.5535794\n",
      " 0.55920716 0.3039501  0.03081783 0.43671739 0.21458467 0.40852864\n",
      " 0.85340307 0.23393949 0.05830274 0.28138389 0.29359376 0.66191651\n",
      " 0.55703215 0.78389821 0.66431354 0.40638686 0.81402038 0.16697292\n",
      " 0.02271207 0.09004786 0.72235935 0.46187723 0.16127178 0.50104478\n",
      " 0.1523121  0.69632038 0.44615628 0.38102123 0.30151209 0.63028259\n",
      " 0.36181261 0.08764992 0.1180059  0.96189766 0.90858069 0.69970713\n",
      " 0.26586996 0.96917638 0.7787509  0.71689019 0.4493615  0.27224156\n",
      " 0.09639096 0.9026024 ]\n"
     ]
    }
   ],
   "source": [
    "# Random floats between 0 and 1\n",
    "uniform_floats = rng.random(50)\n",
    "print(uniform_floats)"
   ]
  },
  {
   "cell_type": "code",
   "execution_count": 34,
   "metadata": {},
   "outputs": [
    {
     "data": {
      "image/png": "[encoded data removed]",
      "text/plain": [
       "<Figure size 432x288 with 1 Axes>"
      ]
     },
     "metadata": {
      "needs_background": "light"
     },
     "output_type": "display_data"
    }
   ],
   "source": [
    "# Drawing Randomness\n",
    "import matplotlib.pyplot as plt\n",
    "\n",
    "x = rng.random(300)\n",
    "y = rng.random(300)\n",
    "\n",
    "plt.scatter(x, y)\n",
    "plt.show()"
   ]
  },
  {
   "cell_type": "code",
   "execution_count": 35,
   "metadata": {},
   "outputs": [
    {
     "name": "stdout",
     "output_type": "stream",
     "text": [
      "Shuffled array:  [15 23 42 16  8  4]\n"
     ]
    }
   ],
   "source": [
    "# Shuffle & Choice\n",
    "import numpy as np\n",
    "array = np.array([4, 8, 15, 16, 23, 42])\n",
    "\n",
    "rng.shuffle(array)\n",
    "print(\"Shuffled array: \", array)"
   ]
  },
  {
   "cell_type": "code",
   "execution_count": 42,
   "metadata": {},
   "outputs": [
    {
     "name": "stdout",
     "output_type": "stream",
     "text": [
      "Three elements:  [42  8 15]\n"
     ]
    }
   ],
   "source": [
    "three_elements_from_array = rng.choice(array, size=3, replace=False)\n",
    "print(\"Three elements: \", three_elements_from_array)"
   ]
  },
  {
   "cell_type": "markdown",
   "metadata": {},
   "source": [
    "### Random Numbers 3 - Normal Distributions and More!"
   ]
  },
  {
   "cell_type": "code",
   "execution_count": 47,
   "metadata": {},
   "outputs": [
    {
     "name": "stdout",
     "output_type": "stream",
     "text": [
      "[1.9195149  1.84211488 1.83975206 1.82794909 1.58539935 1.85510847\n",
      " 1.5466279  1.63081008 1.94553476 1.87603302 1.97310974 1.70924884\n",
      " 1.57716267 1.71393442 1.76530469 1.76184831 1.92005207 1.69580944\n",
      " 1.80280517 1.60170593 1.81754759 1.75046628 1.637528   1.7146256\n",
      " 1.72237364 1.70947673 2.01570119 1.7352331  1.71341558 1.43538236\n",
      " 1.6158689  1.71053899 1.6471221  1.95725614 1.72525933 1.94326664\n",
      " 1.7592557  1.75558418 1.73668053 1.75056944 2.00781925 1.40205839\n",
      " 1.44976814 1.66852438 1.75217918 1.85351566 1.82096308 1.69236311\n",
      " 1.90285655 1.90452931 1.77760867 1.89439864 1.79089679 1.66577755\n",
      " 1.85467253 1.76659197 1.75020098 1.97094304 1.38236918 1.53734737\n",
      " 1.57193944 1.6955109  1.71180877 1.52390115 1.6022263  1.62087375\n",
      " 2.11861361 2.02026129 1.68823759 1.69546251 1.5776194  1.46378044\n",
      " 1.73246797 1.6003222  1.73727242 1.50996912 1.63570383 1.77229406\n",
      " 1.80493144 1.81262079 1.55192665 1.87820286 1.62996825 1.84492869\n",
      " 1.7484042  1.54354188 1.70257034 1.80480456 1.84194481 1.72885182\n",
      " 1.97976683 1.90112662 1.71150188 1.86251827 2.04006902 2.04407269\n",
      " 1.56580002 1.61102003 1.97273782 1.59125784]\n"
     ]
    }
   ],
   "source": [
    "# We can draw normally distributed random numbers\n",
    "heights = rng.normal(1.75, 0.15, 100)\n",
    "print(heights)"
   ]
  },
  {
   "cell_type": "code",
   "execution_count": 57,
   "metadata": {
    "scrolled": true
   },
   "outputs": [
    {
     "data": {
      "image/png": "[encoded data removed]",
      "text/plain": [
       "<Figure size 432x288 with 1 Axes>"
      ]
     },
     "metadata": {
      "needs_background": "light"
     },
     "output_type": "display_data"
    }
   ],
   "source": [
    "# Drawing histogram of normally distributed variables\n",
    "\n",
    "y = rng.normal(1.75, 0.15, 1000)\n",
    "\n",
    "plt.hist(y, bins=50)\n",
    "plt.title(\"Normal Distribution\")\n",
    "plt.show()"
   ]
  },
  {
   "cell_type": "markdown",
   "metadata": {},
   "source": [
    "### Basic Statistics"
   ]
  },
  {
   "cell_type": "code",
   "execution_count": 53,
   "metadata": {},
   "outputs": [
    {
     "name": "stdout",
     "output_type": "stream",
     "text": [
      "18.0\n"
     ]
    }
   ],
   "source": [
    "# We have seen the mean (average) of a vector\n",
    "\n",
    "array = np.array([4, 8, 15, 16, 23, 42])\n",
    "\n",
    "print(np.mean(array))"
   ]
  },
  {
   "cell_type": "code",
   "execution_count": 58,
   "metadata": {},
   "outputs": [
    {
     "name": "stdout",
     "output_type": "stream",
     "text": [
      "12.315302134607444\n",
      "Squared STD:  151.66666666666669\n",
      "Variance:  151.66666666666666\n"
     ]
    }
   ],
   "source": [
    "# Standard deviation\n",
    "\n",
    "print(np.std(array))\n",
    "\n",
    "# Variance\n",
    "print(\"Squared STD: \", np.std(array) ** 2)\n",
    "print(\"Variance: \", np.var(array))"
   ]
  },
  {
   "cell_type": "code",
   "execution_count": 60,
   "metadata": {},
   "outputs": [
    {
     "name": "stdout",
     "output_type": "stream",
     "text": [
      "Median:  15.5\n",
      "Mean:  18.0\n"
     ]
    }
   ],
   "source": [
    "# Median\n",
    "print(\"Median: \", np.median(array))\n",
    "\n",
    "# Mean\n",
    "print(\"Mean: \", np.mean(array))\n",
    "\n",
    "# 1 Costs 0 dollars\n",
    "# 2 Costs 0 dollars\n",
    "# 3 Costs 100 dollars\n",
    "\n",
    "# Mean: 1/3 * (0 + 0 + 100) = 33.3\n",
    "# Median: 0"
   ]
  },
  {
   "cell_type": "markdown",
   "metadata": {},
   "source": [
    "### Finding Unique Values"
   ]
  },
  {
   "cell_type": "code",
   "execution_count": 65,
   "metadata": {},
   "outputs": [
    {
     "data": {
      "text/plain": [
       "(array([ 4,  8, 15, 23, 42]), array([2, 2, 1, 3, 4], dtype=int64))"
      ]
     },
     "execution_count": 65,
     "metadata": {},
     "output_type": "execute_result"
    }
   ],
   "source": [
    "array = np.array([4, 4, 8, 8, 15, 23, 23, 23, 42, 42, 42, 42])\n",
    "np.unique(array, return_counts=True)"
   ]
  },
  {
   "cell_type": "code",
   "execution_count": 67,
   "metadata": {},
   "outputs": [
    {
     "data": {
      "text/plain": [
       "<BarContainer object of 5 artists>"
      ]
     },
     "execution_count": 67,
     "metadata": {},
     "output_type": "execute_result"
    },
    {
     "data": {
      "image/png": "[encoded data removed]",
      "text/plain": [
       "<Figure size 432x288 with 1 Axes>"
      ]
     },
     "metadata": {
      "needs_background": "light"
     },
     "output_type": "display_data"
    }
   ],
   "source": [
    "# Draw a bar plot of unique values\n",
    "unique_values, counts = np.unique(array, return_counts=True)\n",
    "plt.bar(unique_values, counts)"
   ]
  },
  {
   "cell_type": "code",
   "execution_count": 68,
   "metadata": {},
   "outputs": [
    {
     "data": {
      "text/plain": [
       "'1.18.5'"
      ]
     },
     "execution_count": 68,
     "metadata": {},
     "output_type": "execute_result"
    }
   ],
   "source": [
    "# Can check the version of NumPy\n",
    "np.__version__"
   ]
  }
 ],
 "metadata": {
  "kernelspec": {
   "display_name": "Python 3",
   "language": "python",
   "name": "python3"
  },
  "language_info": {
   "codemirror_mode": {
    "name": "ipython",
    "version": 3
   },
   "file_extension": ".py",
   "mimetype": "text/x-python",
   "name": "python",
   "nbconvert_exporter": "python",
   "pygments_lexer": "ipython3",
   "version": "3.8.5"
  }
 },
 "nbformat": 4,
 "nbformat_minor": 4
}
