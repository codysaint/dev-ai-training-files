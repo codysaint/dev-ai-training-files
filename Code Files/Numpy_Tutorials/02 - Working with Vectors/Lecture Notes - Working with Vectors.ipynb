{
 "cells": [
  {
   "cell_type": "markdown",
   "metadata": {},
   "source": [
    "# Working with Vectors"
   ]
  },
  {
   "cell_type": "markdown",
   "metadata": {},
   "source": [
    "### Creating Vectors and Extracting Values"
   ]
  },
  {
   "cell_type": "code",
   "execution_count": 2,
   "metadata": {},
   "outputs": [],
   "source": [
    "import numpy as np"
   ]
  },
  {
   "cell_type": "code",
   "execution_count": 3,
   "metadata": {},
   "outputs": [
    {
     "name": "stdout",
     "output_type": "stream",
     "text": [
      "<class 'numpy.ndarray'>\n"
     ]
    }
   ],
   "source": [
    "# Basic creation with np.array\n",
    "list_of_nums = [4, 8, 15, 16, 23, 42]\n",
    "array = np.array(list_of_nums)\n",
    "print(type(array))"
   ]
  },
  {
   "cell_type": "code",
   "execution_count": 4,
   "metadata": {},
   "outputs": [
    {
     "name": "stdout",
     "output_type": "stream",
     "text": [
      "[ 4  8 15 16 23 42]\n"
     ]
    }
   ],
   "source": [
    "print(array)"
   ]
  },
  {
   "cell_type": "code",
   "execution_count": 5,
   "metadata": {},
   "outputs": [],
   "source": [
    "# Extracting values\n",
    "first_element = array[0]\n",
    "last_element = array[5]"
   ]
  },
  {
   "cell_type": "code",
   "execution_count": 6,
   "metadata": {},
   "outputs": [
    {
     "data": {
      "text/plain": [
       "(4, 42)"
      ]
     },
     "execution_count": 6,
     "metadata": {},
     "output_type": "execute_result"
    }
   ],
   "source": [
    "first_element, last_element"
   ]
  },
  {
   "cell_type": "code",
   "execution_count": 7,
   "metadata": {},
   "outputs": [
    {
     "name": "stdout",
     "output_type": "stream",
     "text": [
      "[  0   8  15  16  23 100]\n"
     ]
    }
   ],
   "source": [
    "# Setting values\n",
    "array[0] = 0\n",
    "array[-1] = 100\n",
    "print(array)"
   ]
  },
  {
   "cell_type": "code",
   "execution_count": 8,
   "metadata": {},
   "outputs": [
    {
     "name": "stdout",
     "output_type": "stream",
     "text": [
      "[17.  20.5 24.  27.5 31.  34.5]\n"
     ]
    }
   ],
   "source": [
    "# Creating vectors with np.arange\n",
    "sequential_numbers = np.arange(17, 35, 3.5)\n",
    "print(sequential_numbers)"
   ]
  },
  {
   "cell_type": "markdown",
   "metadata": {},
   "source": [
    "### Basic Operations"
   ]
  },
  {
   "cell_type": "code",
   "execution_count": 9,
   "metadata": {},
   "outputs": [
    {
     "name": "stdout",
     "output_type": "stream",
     "text": [
      "Sum:  [ 7 10  6  6]\n",
      "Difference:  [-5 -6  0  2]\n",
      "Multiplication:  [ 6 16  9  8]\n",
      "Division:  [0.167 0.25  1.    2.   ]\n",
      "Exponentiation:  [  1 256  27  16]\n"
     ]
    }
   ],
   "source": [
    "first = np.arange(1, 5)\n",
    "second = np.array([6, 8, 3, 2])\n",
    "\n",
    "# Addition\n",
    "summation = first + second\n",
    "print(\"Sum: \", summation)\n",
    "\n",
    "# Subtraction\n",
    "difference = first - second\n",
    "print(\"Difference: \", difference)\n",
    "\n",
    "# Multiplication\n",
    "multiplication = first * second\n",
    "print(\"Multiplication: \", multiplication)\n",
    "\n",
    "# Division\n",
    "division = np.around(first / second, 3)\n",
    "print(\"Division: \", division)\n",
    "\n",
    "# Exponentiation \n",
    "exponentiation = first ** second\n",
    "print(\"Exponentiation: \", exponentiation)"
   ]
  },
  {
   "cell_type": "markdown",
   "metadata": {},
   "source": [
    "### NumPy Datatypes"
   ]
  },
  {
   "cell_type": "code",
   "execution_count": 59,
   "metadata": {},
   "outputs": [
    {
     "data": {
      "text/plain": [
       "dtype('int32')"
      ]
     },
     "execution_count": 59,
     "metadata": {},
     "output_type": "execute_result"
    }
   ],
   "source": [
    "# What datatypes does numpy have?\n",
    "array = np.array([4, 8, 15, 16, 23, 42])\n",
    "array.dtype\n",
    "\n",
    "# numpy.int32\n",
    "# numpy.float32\n",
    "# numpy.uint16\n",
    "# numpy.complex64"
   ]
  },
  {
   "cell_type": "code",
   "execution_count": 78,
   "metadata": {},
   "outputs": [
    {
     "data": {
      "text/plain": [
       "array([252,   8,  15,  16,  23,  42], dtype=uint8)"
      ]
     },
     "execution_count": 78,
     "metadata": {},
     "output_type": "execute_result"
    }
   ],
   "source": [
    "# We can specify the dtype under the creation of an array\n",
    "array = np.array([-4, 8, 15, 16, 23, 42], dtype=np.uint8)\n",
    "array.dtype\n",
    "array # Be careful\n",
    "# In most cases where performance is not an issue, you can let NumPy worry about the types."
   ]
  },
  {
   "cell_type": "code",
   "execution_count": 77,
   "metadata": {},
   "outputs": [
    {
     "name": "stdout",
     "output_type": "stream",
     "text": [
      "6\n",
      "24\n"
     ]
    }
   ],
   "source": [
    "# Size of a vector\n",
    "print(array.size) # Does the same as length, but we should use this for higher dimensional arrays\n",
    "\n",
    "# Number of bytes\n",
    "print(array.nbytes)"
   ]
  },
  {
   "cell_type": "markdown",
   "metadata": {},
   "source": [
    "### Slicing"
   ]
  },
  {
   "cell_type": "code",
   "execution_count": 11,
   "metadata": {},
   "outputs": [],
   "source": [
    "array = np.array([4, 8, 15, 16, 23, 42])"
   ]
  },
  {
   "cell_type": "code",
   "execution_count": 12,
   "metadata": {},
   "outputs": [
    {
     "name": "stdout",
     "output_type": "stream",
     "text": [
      "[16 23 42]\n"
     ]
    }
   ],
   "source": [
    "# Everything after an index:\n",
    "print(array[3:])"
   ]
  },
  {
   "cell_type": "code",
   "execution_count": 84,
   "metadata": {},
   "outputs": [
    {
     "name": "stdout",
     "output_type": "stream",
     "text": [
      "[ 4  8 15 16]\n"
     ]
    }
   ],
   "source": [
    "# Everything before an index\n",
    "print(array[:4])"
   ]
  },
  {
   "cell_type": "code",
   "execution_count": 85,
   "metadata": {},
   "outputs": [
    {
     "name": "stdout",
     "output_type": "stream",
     "text": [
      "[15 16 23]\n"
     ]
    }
   ],
   "source": [
    "# Between to indexes\n",
    "print(array[2:5]) # Not inclusive on the last one"
   ]
  },
  {
   "cell_type": "code",
   "execution_count": 86,
   "metadata": {},
   "outputs": [
    {
     "name": "stdout",
     "output_type": "stream",
     "text": [
      "[ 4 15 23]\n"
     ]
    }
   ],
   "source": [
    "# Use a step\n",
    "print(array[:5:2]) # Every other number"
   ]
  },
  {
   "cell_type": "code",
   "execution_count": 88,
   "metadata": {},
   "outputs": [
    {
     "name": "stdout",
     "output_type": "stream",
     "text": [
      "[15 16]\n"
     ]
    }
   ],
   "source": [
    "# Can use negative numbers\n",
    "print(array[2:-2])"
   ]
  },
  {
   "cell_type": "code",
   "execution_count": 96,
   "metadata": {},
   "outputs": [
    {
     "name": "stdout",
     "output_type": "stream",
     "text": [
      "[42 23 16 15  8  4]\n"
     ]
    }
   ],
   "source": [
    "# Reverse an array?\n",
    "reverse_array = array[::-1]\n",
    "print(reverse_array)"
   ]
  },
  {
   "cell_type": "markdown",
   "metadata": {},
   "source": [
    "### Sorting"
   ]
  },
  {
   "cell_type": "code",
   "execution_count": 101,
   "metadata": {},
   "outputs": [
    {
     "name": "stdout",
     "output_type": "stream",
     "text": [
      "[ 4  8 15 15 23 42]\n"
     ]
    }
   ],
   "source": [
    "# There ways to sort things in NumPy:\n",
    "array = np.array([4, 15, 15, 8, 42, 23])\n",
    "\n",
    "# 1) arr.sort() is a method for in-place sorting\n",
    "array.sort()\n",
    "print(array)"
   ]
  },
  {
   "cell_type": "code",
   "execution_count": 104,
   "metadata": {},
   "outputs": [
    {
     "name": "stdout",
     "output_type": "stream",
     "text": [
      "[ 4  8 15 15 23 42]\n"
     ]
    }
   ],
   "source": [
    "# 2) np.sort() is a function for returning a sorted copy\n",
    "array = np.array([4, 15, 15, 8, 42, 23])\n",
    "sorted_array = np.sort(array, kind=\"heapsort\")\n",
    "print(sorted_array)"
   ]
  },
  {
   "cell_type": "markdown",
   "metadata": {},
   "source": [
    "### Copies vs. Views"
   ]
  },
  {
   "cell_type": "code",
   "execution_count": 114,
   "metadata": {},
   "outputs": [
    {
     "name": "stdout",
     "output_type": "stream",
     "text": [
      "Modifyed reverse:  [1000000      23      16      15       8      -4]\n",
      "Original array:  [     -4       8      15      16      23 1000000]\n"
     ]
    }
   ],
   "source": [
    "# Reverse an array\n",
    "array = np.array([-4, 8, 15, 16, 23, 42])\n",
    "reverse_array = array[::-1]\n",
    "\n",
    "# Modifying the reverese\n",
    "reverse_array[0] = 1000000\n",
    "print(\"Modified reverse: \", reverse_array)\n",
    "\n",
    "# The original?\n",
    "print(\"Original array: \", array) # IT IS ALSO CHANGED!\n",
    "\n",
    "## Slicing creates a \"View\". This means that modifications of the view changes the original."
   ]
  },
  {
   "cell_type": "code",
   "execution_count": 117,
   "metadata": {},
   "outputs": [
    {
     "name": "stdout",
     "output_type": "stream",
     "text": [
      "Positive array:  [1000000       8      15      16      23      42]\n",
      "Original array:  [-4  8 15 16 23 42]\n"
     ]
    }
   ],
   "source": [
    "# Make a positive array\n",
    "array = np.array([-4, 8, 15, 16, 23, 42])\n",
    "positive_array = np.abs(array)\n",
    "\n",
    "# Modify the positive array\n",
    "positive_array[0] = 1000000\n",
    "print(\"Positive array: \", positive_array)\n",
    "\n",
    "# The original?\n",
    "print(\"Original array: \", array) # IT IS NOT CHANGED!\n",
    "\n",
    "# np.abs() created a \"Copy\". This means that modifications of the view changes the original."
   ]
  },
  {
   "cell_type": "markdown",
   "metadata": {},
   "source": [
    "### Aggregate functions"
   ]
  },
  {
   "cell_type": "code",
   "execution_count": 126,
   "metadata": {},
   "outputs": [
    {
     "data": {
      "text/plain": [
       "7418880"
      ]
     },
     "execution_count": 126,
     "metadata": {},
     "output_type": "execute_result"
    }
   ],
   "source": [
    "array = np.array([4, 8, 15, 16, 23, 42])\n",
    "\n",
    "# Sum\n",
    "sum_of_array = np.sum(array)\n",
    "\n",
    "# Mean\n",
    "mean_of_array = np.mean(array)\n",
    "\n",
    "# Prod\n",
    "prod_of_array = np.prod(array)"
   ]
  },
  {
   "cell_type": "code",
   "execution_count": 131,
   "metadata": {},
   "outputs": [
    {
     "name": "stdout",
     "output_type": "stream",
     "text": [
      "Max:  42\n",
      "Min:  4\n",
      "Argmax:  5\n",
      "Argmin:  0\n"
     ]
    }
   ],
   "source": [
    "# Max/Min\n",
    "print(\"Max: \", np.max(array))\n",
    "print(\"Min: \", np.min(array))\n",
    "\n",
    "# Argmin/Argmax\n",
    "print(\"Argmax: \", np.argmax(array))\n",
    "print(\"Argmin: \", np.argmin(array))"
   ]
  }
 ],
 "metadata": {
  "kernelspec": {
   "display_name": "Python 3",
   "language": "python",
   "name": "python3"
  },
  "language_info": {
   "codemirror_mode": {
    "name": "ipython",
    "version": 3
   },
   "file_extension": ".py",
   "mimetype": "text/x-python",
   "name": "python",
   "nbconvert_exporter": "python",
   "pygments_lexer": "ipython3",
   "version": "3.11.7"
  }
 },
 "nbformat": 4,
 "nbformat_minor": 4
}
