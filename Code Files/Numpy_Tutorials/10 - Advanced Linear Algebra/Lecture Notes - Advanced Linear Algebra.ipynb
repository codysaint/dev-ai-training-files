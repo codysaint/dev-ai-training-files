{
 "cells": [
  {
   "cell_type": "markdown",
   "metadata": {},
   "source": [
    "# Advanced Linear Algebra"
   ]
  },
  {
   "cell_type": "code",
   "execution_count": 2,
   "metadata": {},
   "outputs": [],
   "source": [
    "import numpy as np\n",
    "from numpy import linalg"
   ]
  },
  {
   "cell_type": "markdown",
   "metadata": {},
   "source": [
    "### Finding Eigenvalues and Eigenvectors"
   ]
  },
  {
   "cell_type": "code",
   "execution_count": 3,
   "metadata": {},
   "outputs": [],
   "source": [
    "# Lets us start with a random matrix\n",
    "rng = np.random.default_rng()\n",
    "matrix = rng.random(9).reshape(3, 3)"
   ]
  },
  {
   "cell_type": "code",
   "execution_count": 4,
   "metadata": {},
   "outputs": [],
   "source": [
    "eigenvalues, eigenvectors = linalg.eig(matrix)"
   ]
  },
  {
   "cell_type": "code",
   "execution_count": 5,
   "metadata": {},
   "outputs": [
    {
     "name": "stdout",
     "output_type": "stream",
     "text": [
      "[ 1.39755571 -0.30412228  0.33542111]\n"
     ]
    }
   ],
   "source": [
    "print(eigenvalues)"
   ]
  },
  {
   "cell_type": "code",
   "execution_count": 6,
   "metadata": {},
   "outputs": [
    {
     "name": "stdout",
     "output_type": "stream",
     "text": [
      "[[ 0.66654238 -0.117047    0.53331633]\n",
      " [ 0.47064658  0.70290112 -0.84564677]\n",
      " [ 0.57811162 -0.70159106  0.02133606]]\n"
     ]
    }
   ],
   "source": [
    "print(eigenvectors)"
   ]
  },
  {
   "cell_type": "code",
   "execution_count": 7,
   "metadata": {},
   "outputs": [
    {
     "name": "stdout",
     "output_type": "stream",
     "text": [
      "This is the determinant:  -0.14256330688235516\n",
      "\n",
      "This is also the determinant:  -0.14256330688235502\n"
     ]
    }
   ],
   "source": [
    "# Product of the eigenvalues are the determinant!\n",
    "print(\"This is the determinant: \", linalg.det(matrix))\n",
    "print(\"\\nThis is also the determinant: \", np.prod(eigenvalues))"
   ]
  },
  {
   "cell_type": "markdown",
   "metadata": {},
   "source": [
    "### Types of Matricies"
   ]
  },
  {
   "cell_type": "markdown",
   "metadata": {},
   "source": [
    "#### Diagonal Matricies"
   ]
  },
  {
   "cell_type": "code",
   "execution_count": 8,
   "metadata": {},
   "outputs": [
    {
     "name": "stdout",
     "output_type": "stream",
     "text": [
      "[[1 0]\n",
      " [0 7]]\n"
     ]
    }
   ],
   "source": [
    "# A matrix D is diagonal if the only non-zero entries are on the diagonal\n",
    "D = np.array([[1, 0], [0, 7]])\n",
    "print(D)"
   ]
  },
  {
   "cell_type": "code",
   "execution_count": 9,
   "metadata": {},
   "outputs": [
    {
     "name": "stdout",
     "output_type": "stream",
     "text": [
      "Identity Matrix:\n",
      " [[1. 0. 0.]\n",
      " [0. 1. 0.]\n",
      " [0. 0. 1.]] \n",
      "\n",
      "\n",
      "Diagonal Matrix:\n",
      " [[1 0]\n",
      " [0 7]]\n"
     ]
    }
   ],
   "source": [
    "# Stine has shown you the identity matrix\n",
    "identity = np.eye(3)\n",
    "print(\"Identity Matrix:\\n\", identity, \"\\n\\n\")\n",
    "\n",
    "# We can also make diagonal matricies with the diag-function.\n",
    "print(\"Diagonal Matrix:\\n\", np.diag([1, 7]))"
   ]
  },
  {
   "cell_type": "markdown",
   "metadata": {},
   "source": [
    "#### Orthogonal Matricies"
   ]
  },
  {
   "cell_type": "code",
   "execution_count": 10,
   "metadata": {},
   "outputs": [
    {
     "name": "stdout",
     "output_type": "stream",
     "text": [
      "[[ 0.70710678  0.70710678]\n",
      " [ 0.70710678 -0.70710678]]\n"
     ]
    }
   ],
   "source": [
    "# A matrix is orthogonal if the columns are orthogonal and each column has length one.\n",
    "Q = np.array([[1/(2 ** (1/2)), 1/(2 ** (1/2))], [1/(2 ** (1/2)), -1/(2 ** (1/2))]])\n",
    "print(Q)"
   ]
  },
  {
   "cell_type": "code",
   "execution_count": 11,
   "metadata": {},
   "outputs": [
    {
     "name": "stdout",
     "output_type": "stream",
     "text": [
      "The columns are orthogonal:  0.0\n",
      "The first column has length one:  0.9999999999999999\n",
      "The second column has length one:  0.9999999999999999\n"
     ]
    }
   ],
   "source": [
    "# Check that Q is orthogonal\n",
    "print(\"The columns are orthogonal: \", np.dot(Q[:, 0], Q[:, 1]))\n",
    "print(\"The first column has length one: \", linalg.norm(Q[:, 0]))\n",
    "print(\"The second column has length one: \", linalg.norm(Q[:, 1]))"
   ]
  },
  {
   "cell_type": "code",
   "execution_count": 14,
   "metadata": {},
   "outputs": [
    {
     "name": "stdout",
     "output_type": "stream",
     "text": [
      "-0.9999999999999998\n"
     ]
    }
   ],
   "source": [
    "# Orthogonal matricies satisfies Q^(-1) = Q^(T).\n",
    "# Orthogonal matricies have determinant -1 or 1.\n",
    "# If we have a system of equations Qx = y, then the solution is x = Q^(-1)y = Q^(T)y\n",
    "\n",
    "y = np.array([3, 4])\n",
    "\n",
    "x = Q.T @ y\n",
    "print(linalg.det(Q))"
   ]
  },
  {
   "cell_type": "markdown",
   "metadata": {},
   "source": [
    "#### Upper Triangular Matricies"
   ]
  },
  {
   "cell_type": "code",
   "execution_count": 15,
   "metadata": {},
   "outputs": [
    {
     "name": "stdout",
     "output_type": "stream",
     "text": [
      "[[1 2]\n",
      " [0 3]]\n"
     ]
    }
   ],
   "source": [
    "# Have zeros below the diagonal.\n",
    "R = np.array([[1, 2], [0, 3]])\n",
    "print(R)"
   ]
  },
  {
   "cell_type": "code",
   "execution_count": 16,
   "metadata": {},
   "outputs": [
    {
     "data": {
      "text/plain": [
       "3.0000000000000004"
      ]
     },
     "execution_count": 16,
     "metadata": {},
     "output_type": "execute_result"
    }
   ],
   "source": [
    "# Determinant of R is just the product of the diagonal elements.\n",
    "linalg.det(R)\n",
    "\n",
    "# Linear systems Rx = y are much faster to solve than general Ax = y systems"
   ]
  },
  {
   "cell_type": "markdown",
   "metadata": {},
   "source": [
    "### QR Decomposition"
   ]
  },
  {
   "cell_type": "code",
   "execution_count": null,
   "metadata": {},
   "outputs": [],
   "source": [
    "# Every matrix A can be written as A = QR (matrix product) where Q is orthogonal and R is upper triangular.\n",
    "A = np.array([[1, 2], [3, 4]])\n",
    "print(\"QR Decomposition:\\n \", linalg.qr(A))\n",
    "\n",
    "Q_part, R_part = linalg.qr(A)"
   ]
  },
  {
   "cell_type": "code",
   "execution_count": null,
   "metadata": {},
   "outputs": [],
   "source": [
    "print(\"Orthogonal Matrix:\\n\", Q_part, \"\\n\\n\")\n",
    "print(\"Upper Trigangular Part:\\n\", R_part)\n",
    "\n",
    "# if A == Q_part @ R_part:\n",
    "#    print(\"A is indeed equal to Q_part * R_part\")\n",
    "\n",
    "if np.allclose(A, Q_part @ R_part):\n",
    "    print(\"A is indeed equal to Q_part * R_part\")"
   ]
  },
  {
   "cell_type": "markdown",
   "metadata": {},
   "source": [
    "### When systems of equations are not solvable?"
   ]
  },
  {
   "cell_type": "code",
   "execution_count": 17,
   "metadata": {},
   "outputs": [],
   "source": [
    "A = np.array([[1, 1], [1, 1]])\n",
    "\n",
    "y = np.array([3, 5])\n",
    "\n",
    "# Get generic linear algebra exception (or nonsense!)\n",
    "# x = linalg.solve(A, y)"
   ]
  },
  {
   "cell_type": "code",
   "execution_count": null,
   "metadata": {},
   "outputs": [],
   "source": [
    "# How to fail-safe the code\n",
    "from numpy.linalg import LinAlgError\n",
    "\n",
    "try:\n",
    "    x = linalg.solve(A, y)\n",
    "    if not np.allclose(A @ x, y):\n",
    "        raise LinAlgError\n",
    "    print(\"The solution is given by x = \", x)\n",
    "except LinAlgError:\n",
    "    print(\"The solution does not exist\")"
   ]
  },
  {
   "cell_type": "code",
   "execution_count": null,
   "metadata": {},
   "outputs": [],
   "source": [
    "# If there is no x such that Ax = y, can we find x such that Ax is close to y?\n",
    "# The closest is given by least squares\n",
    "\n",
    "x = linalg.lstsq(A, y, rcond=None)[0]\n",
    "print(\"The best solution: \", x)\n",
    "print(\"The closest we can get: \", A @ x)"
   ]
  }
 ],
 "metadata": {
  "kernelspec": {
   "display_name": "Python 3",
   "language": "python",
   "name": "python3"
  },
  "language_info": {
   "codemirror_mode": {
    "name": "ipython",
    "version": 3
   },
   "file_extension": ".py",
   "mimetype": "text/x-python",
   "name": "python",
   "nbconvert_exporter": "python",
   "pygments_lexer": "ipython3",
   "version": "3.8.5"
  }
 },
 "nbformat": 4,
 "nbformat_minor": 4
}
