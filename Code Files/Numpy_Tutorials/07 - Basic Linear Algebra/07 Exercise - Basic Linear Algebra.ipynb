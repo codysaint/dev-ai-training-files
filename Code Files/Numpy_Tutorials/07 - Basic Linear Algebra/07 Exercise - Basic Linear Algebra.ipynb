{
 "cells": [
  {
   "cell_type": "markdown",
   "metadata": {},
   "source": [
    "# 07 Exercise - Basic Linear Algebra"
   ]
  },
  {
   "cell_type": "markdown",
   "metadata": {},
   "source": [
    "This exercise set is all about doing standard linear algebra exercises using NumPy. "
   ]
  },
  {
   "cell_type": "code",
   "execution_count": 1,
   "metadata": {},
   "outputs": [],
   "source": [
    "#DON'T MODIFY THIS CELL, ONLY RUN IT.\n",
    "\n",
    "# Importing NumPy as np.\n",
    "import numpy as np"
   ]
  },
  {
   "cell_type": "markdown",
   "metadata": {},
   "source": [
    "## Exercise 1: Import the Linalg Submodule"
   ]
  },
  {
   "cell_type": "code",
   "execution_count": 2,
   "metadata": {},
   "outputs": [],
   "source": [
    "# Importing the linalg submodule from NumPy\n"
   ]
  },
  {
   "cell_type": "markdown",
   "metadata": {},
   "source": [
    "## Exercise 2: Simple Vector Operations"
   ]
  },
  {
   "cell_type": "markdown",
   "metadata": {},
   "source": [
    "### Exercise 2a: \n",
    "Are any of the vectors $[1, 2, 3]$  and $[2, 3, 4]$  parallel? What about orthogonal?"
   ]
  },
  {
   "cell_type": "code",
   "execution_count": 3,
   "metadata": {},
   "outputs": [],
   "source": [
    "# Make the vectors\n",
    "\n",
    "# Checking if parallel\n",
    "\n",
    "# Checking if orthogonal\n"
   ]
  },
  {
   "cell_type": "markdown",
   "metadata": {},
   "source": [
    "### Exercise 2b: \n",
    "Can you find the angle between the vector $[1, 2, 3]$ and $[2, 3, 4]$?"
   ]
  },
  {
   "cell_type": "code",
   "execution_count": 4,
   "metadata": {},
   "outputs": [],
   "source": [
    "# Defining the angle function\n",
    "\n",
    "# Finding the angle\n"
   ]
  },
  {
   "cell_type": "markdown",
   "metadata": {},
   "source": [
    "## Exercise 3: Simple Matrix Operations"
   ]
  },
  {
   "cell_type": "markdown",
   "metadata": {},
   "source": [
    "Define the matrices \n",
    "$$ A= \n",
    "\\begin{bmatrix}\n",
    "1&1&2\\\\\n",
    "1&1&1\\\\\n",
    "1&1&1\n",
    "\\end{bmatrix}\\quad \\text{and}\\quad B= \n",
    "\\begin{bmatrix}\n",
    "1&0&0\\\\\n",
    "0&1&-2\\\\\n",
    "0&0&1\n",
    "\\end{bmatrix}.\n",
    "$$"
   ]
  },
  {
   "cell_type": "markdown",
   "metadata": {},
   "source": [
    "### Exercise 3a: \n",
    "Find the matrix product $AB$."
   ]
  },
  {
   "cell_type": "code",
   "execution_count": 5,
   "metadata": {},
   "outputs": [],
   "source": [
    "# Defining the matrices\n",
    "\n",
    "# Finding the matrix product AB\n"
   ]
  },
  {
   "cell_type": "markdown",
   "metadata": {},
   "source": [
    "### Exercise 3b: \n",
    "Find the matrix product $B^{-1}A^5$."
   ]
  },
  {
   "cell_type": "code",
   "execution_count": 6,
   "metadata": {},
   "outputs": [],
   "source": [
    "# Find the matrix power\n"
   ]
  },
  {
   "cell_type": "markdown",
   "metadata": {},
   "source": [
    "### Exercise 3c: \n",
    "Find the transpose of $A$, namely $A^T$. Compute the product $A A^T$."
   ]
  },
  {
   "cell_type": "code",
   "execution_count": 7,
   "metadata": {},
   "outputs": [],
   "source": [
    "# Finding the transpose of $A$\n",
    "\n",
    "# Finding the product of $AA^T$\n"
   ]
  },
  {
   "cell_type": "markdown",
   "metadata": {},
   "source": [
    "## Exercise 4: Balancing Chemical Equations"
   ]
  },
  {
   "cell_type": "markdown",
   "metadata": {},
   "source": [
    "In this exercise we are going to use NumPy to balance a set of chemical equations. The question is how to balance the equation\n",
    "$$x*C_4H_{10}+y*O_2 = v*H_2O + w*CO_2.$$\n",
    "Written as vectors this becomes\n",
    "$$x*[4,10,0]+y*[0,0,2]=z*[0,2,1] + w*[1,0,2],$$\n",
    "or equivalently,\n",
    "$$\n",
    "\\begin{bmatrix}\n",
    "4&0&0\\\\\n",
    "10&0&-2\\\\\n",
    "0&2&-1\n",
    "\\end{bmatrix}\n",
    "\\begin{bmatrix}\n",
    "x\\\\ y\\\\ z\n",
    "\\end{bmatrix} \n",
    "=w*\\begin{bmatrix}\n",
    "1\\\\ 0\\\\ 2\n",
    "\\end{bmatrix}.\n",
    "$$"
   ]
  },
  {
   "cell_type": "markdown",
   "metadata": {},
   "source": [
    "### Exercise 4a: \n",
    "Find out if the matrix is invertible."
   ]
  },
  {
   "cell_type": "code",
   "execution_count": 8,
   "metadata": {
    "scrolled": true
   },
   "outputs": [],
   "source": [
    "# Checking if the matrix is invertible\n"
   ]
  },
  {
   "cell_type": "markdown",
   "metadata": {},
   "source": [
    "### Exercise 4b: \n",
    "Solve the linear system with $w=1$."
   ]
  },
  {
   "cell_type": "code",
   "execution_count": 9,
   "metadata": {},
   "outputs": [],
   "source": [
    "# Finding a solution\n"
   ]
  },
  {
   "cell_type": "markdown",
   "metadata": {},
   "source": [
    "### Exercise 4c: \n",
    "Having 0.25 of a carbon atom doesn’t really make sense. Multiply the vector with the whole numbers from 1 to 10 to see when the solution consists of only whole numbers."
   ]
  },
  {
   "cell_type": "code",
   "execution_count": 10,
   "metadata": {},
   "outputs": [],
   "source": [
    "# Print out the multiples from 1 to 10\n"
   ]
  },
  {
   "cell_type": "markdown",
   "metadata": {},
   "source": [
    "### Exercise 4d: \n",
    "Write up the balanced equation, in other words, what is $x,$ $y,$ $z,$ and $w$?"
   ]
  },
  {
   "cell_type": "markdown",
   "metadata": {},
   "source": [
    "## Moral of the Story"
   ]
  },
  {
   "cell_type": "markdown",
   "metadata": {},
   "source": [
    "NumPy's linear algebra module makes working with linear algebra easy. In many universities around the world, NumPy is used in courses for linear algebra. In Exercise 4 above, you saw that one can use NumPy to balance chemical equations. Many other applications of linear algebra exist and you can check out the article: https://medium.com/@jeremyjkun/here-s-just-a-fraction-of-what-you-can-do-with-linear-algebra-633383d4153f for more examples!"
   ]
  }
 ],
 "metadata": {
  "kernelspec": {
   "display_name": "Python 3",
   "language": "python",
   "name": "python3"
  },
  "language_info": {
   "codemirror_mode": {
    "name": "ipython",
    "version": 3
   },
   "file_extension": ".py",
   "mimetype": "text/x-python",
   "name": "python",
   "nbconvert_exporter": "python",
   "pygments_lexer": "ipython3",
   "version": "3.8.5"
  }
 },
 "nbformat": 4,
 "nbformat_minor": 4
}
