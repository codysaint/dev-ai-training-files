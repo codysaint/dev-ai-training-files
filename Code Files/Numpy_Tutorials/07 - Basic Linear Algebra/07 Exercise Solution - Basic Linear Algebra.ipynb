{
 "cells": [
  {
   "cell_type": "markdown",
   "metadata": {},
   "source": [
    "# 07 Exercise Solution - Basic Linear Algebra"
   ]
  },
  {
   "cell_type": "markdown",
   "metadata": {},
   "source": [
    "This exercise set is all about doing standard linear algebra exercises using NumPy. "
   ]
  },
  {
   "cell_type": "code",
   "execution_count": 2,
   "metadata": {},
   "outputs": [],
   "source": [
    "#DON'T MODIFY THIS CELL, ONLY RUN IT.\n",
    "\n",
    "# Importing NumPy as np.\n",
    "import numpy as np"
   ]
  },
  {
   "cell_type": "markdown",
   "metadata": {},
   "source": [
    "## Exercise 1: Import the Linalg Submodule"
   ]
  },
  {
   "cell_type": "code",
   "execution_count": 3,
   "metadata": {},
   "outputs": [],
   "source": [
    "# Importing the linalg submodule from NumPy\n",
    "from numpy import linalg"
   ]
  },
  {
   "cell_type": "markdown",
   "metadata": {},
   "source": [
    "## Exercise 2: Simple Vector Operations"
   ]
  },
  {
   "cell_type": "markdown",
   "metadata": {},
   "source": [
    "### Exercise 2a: \n",
    "Are any of the vectors $[1, 2, 3]$  and $[2, 3, 4]$  parallel? What about orthogonal?"
   ]
  },
  {
   "cell_type": "code",
   "execution_count": 4,
   "metadata": {},
   "outputs": [
    {
     "name": "stdout",
     "output_type": "stream",
     "text": [
      "The cross product between is [-1  2 -1]\n",
      "The inner product is 20\n"
     ]
    }
   ],
   "source": [
    "# Make the vectors\n",
    "vec_1 = np.arange(1, 4)\n",
    "vec_2 = np.arange(2, 5)\n",
    "\n",
    "# Checking if parallel\n",
    "print(f\"The cross product between is {np.cross(vec_1, vec_2)}\")\n",
    "\n",
    "# Checking if orthogonal\n",
    "print(f\"The inner product is {np.dot(vec_1, vec_2)}\")"
   ]
  },
  {
   "cell_type": "markdown",
   "metadata": {},
   "source": [
    "<i>Conclusion:</i> No, the vectors are neither parallel nor orthogonal."
   ]
  },
  {
   "cell_type": "markdown",
   "metadata": {},
   "source": [
    "### Exercise 2b: \n",
    "Can you find the angle between the vector $[1, 2, 3]$ and $[2, 3, 4]$?"
   ]
  },
  {
   "cell_type": "code",
   "execution_count": 5,
   "metadata": {},
   "outputs": [
    {
     "name": "stdout",
     "output_type": "stream",
     "text": [
      "The angle is 0.1219\n"
     ]
    }
   ],
   "source": [
    "# Defining the angle function\n",
    "def angle(vect_1, vect_2):\n",
    "    cos_angle = np.dot(vect_1, vect_2)/(linalg.norm(vect_1) * linalg.norm(vect_2))\n",
    "    return np.around(np.arccos(cos_angle), 4)\n",
    "\n",
    "# Finding the angle\n",
    "print(f\"The angle is {angle(vec_1, vec_2)}\")"
   ]
  },
  {
   "cell_type": "markdown",
   "metadata": {},
   "source": [
    "## Exercise 3: Simple Matrix Operations"
   ]
  },
  {
   "cell_type": "markdown",
   "metadata": {},
   "source": [
    "Define the matrices \n",
    "$$ A= \n",
    "\\begin{bmatrix}\n",
    "1&1&2\\\\\n",
    "1&1&1\\\\\n",
    "1&1&1\n",
    "\\end{bmatrix}\\quad \\text{and}\\quad B= \n",
    "\\begin{bmatrix}\n",
    "1&0&0\\\\\n",
    "0&1&-2\\\\\n",
    "0&0&1\n",
    "\\end{bmatrix}.\n",
    "$$"
   ]
  },
  {
   "cell_type": "markdown",
   "metadata": {},
   "source": [
    "### Exercise 3a: \n",
    "Find the matrix product $AB$."
   ]
  },
  {
   "cell_type": "code",
   "execution_count": 6,
   "metadata": {},
   "outputs": [
    {
     "data": {
      "text/plain": [
       "array([[ 1.,  1.,  0.],\n",
       "       [ 1.,  1., -1.],\n",
       "       [ 1.,  1., -1.]])"
      ]
     },
     "execution_count": 6,
     "metadata": {},
     "output_type": "execute_result"
    }
   ],
   "source": [
    "# Defining the matrices\n",
    "A = np.ones((3, 3))\n",
    "A[0, 2] = 2\n",
    "\n",
    "B = np.eye(3)\n",
    "B[1, 2] = -2\n",
    "\n",
    "# Finding the matrix product AB\n",
    "A @ B"
   ]
  },
  {
   "cell_type": "markdown",
   "metadata": {},
   "source": [
    "### Exercise 3b: \n",
    "Find the matrix product $B^{-1}A^5$."
   ]
  },
  {
   "cell_type": "code",
   "execution_count": 7,
   "metadata": {},
   "outputs": [
    {
     "data": {
      "text/plain": [
       "array([[142., 142., 185.],\n",
       "       [327., 327., 426.],\n",
       "       [109., 109., 142.]])"
      ]
     },
     "execution_count": 7,
     "metadata": {},
     "output_type": "execute_result"
    }
   ],
   "source": [
    "# Find the matrix power\n",
    "linalg.inv(B) @ linalg.matrix_power(A, 5)"
   ]
  },
  {
   "cell_type": "markdown",
   "metadata": {},
   "source": [
    "### Exercise 3c: \n",
    "Find the transpose of $A$, namely $A^T$. Compute the product $A A^T$."
   ]
  },
  {
   "cell_type": "code",
   "execution_count": 8,
   "metadata": {},
   "outputs": [
    {
     "name": "stdout",
     "output_type": "stream",
     "text": [
      "The transpose\n",
      "[[1. 1. 1.]\n",
      " [1. 1. 1.]\n",
      " [2. 1. 1.]]\n",
      "\n",
      "The product\n",
      "[[6. 4. 4.]\n",
      " [4. 3. 3.]\n",
      " [4. 3. 3.]]\n"
     ]
    }
   ],
   "source": [
    "# Finding the transpose of $A$\n",
    "print(f\"The transpose\\n{A.T}\\n\")\n",
    "\n",
    "# Finding the product of $AA^T$\n",
    "print(f\"The product\\n{A @ A.T}\")"
   ]
  },
  {
   "cell_type": "markdown",
   "metadata": {},
   "source": [
    "## Exercise 4: Balancing Chemical Equations"
   ]
  },
  {
   "cell_type": "markdown",
   "metadata": {},
   "source": [
    "In this exercise we are going to use NumPy to balance a set of chemical equations. The question is how to balance the equation\n",
    "$$x*C_4H_{10}+y*O_2 = v*H_2O + w*CO_2.$$\n",
    "Written as vectors this becomes\n",
    "$$x*[4,10,0]+y*[0,0,2]=z*[0,2,1] + w*[1,0,2],$$\n",
    "or equivalently,\n",
    "$$\n",
    "\\begin{bmatrix}\n",
    "4&0&0\\\\\n",
    "10&0&-2\\\\\n",
    "0&2&-1\n",
    "\\end{bmatrix}\n",
    "\\begin{bmatrix}\n",
    "x\\\\ y\\\\ z\n",
    "\\end{bmatrix} \n",
    "=w*\\begin{bmatrix}\n",
    "1\\\\ 0\\\\ 2\n",
    "\\end{bmatrix}.\n",
    "$$"
   ]
  },
  {
   "cell_type": "markdown",
   "metadata": {},
   "source": [
    "### Exercise 4a: \n",
    "Find out if the matrix is invertible."
   ]
  },
  {
   "cell_type": "code",
   "execution_count": 9,
   "metadata": {
    "scrolled": true
   },
   "outputs": [
    {
     "data": {
      "text/plain": [
       "16.000000000000007"
      ]
     },
     "execution_count": 9,
     "metadata": {},
     "output_type": "execute_result"
    }
   ],
   "source": [
    "# Checking if the matrix is invertible\n",
    "chem_mat = np.array([[4, 0, 0], [10, 0, -2], [0, 2, -1]])\n",
    "linalg.det(chem_mat) # Since it is nonzero, the matrix is invertible."
   ]
  },
  {
   "cell_type": "markdown",
   "metadata": {},
   "source": [
    "### Exercise 4b: \n",
    "Solve the linear system with $w=1$."
   ]
  },
  {
   "cell_type": "code",
   "execution_count": 10,
   "metadata": {},
   "outputs": [
    {
     "name": "stdout",
     "output_type": "stream",
     "text": [
      "The solution is:  [0.25  1.625 1.25 ]\n"
     ]
    }
   ],
   "source": [
    "# Finding a solution\n",
    "solution = linalg.solve(chem_mat, np.array([1, 0, 2]))\n",
    "print(\"The solution is: \", solution)"
   ]
  },
  {
   "cell_type": "markdown",
   "metadata": {},
   "source": [
    "### Exercise 4c: \n",
    "Having 0.25 of a carbon atom doesn’t really make sense. Multiply the vector with the whole numbers from 1 to 10 to see when the solution consists of only whole numbers."
   ]
  },
  {
   "cell_type": "code",
   "execution_count": 11,
   "metadata": {},
   "outputs": [
    {
     "name": "stdout",
     "output_type": "stream",
     "text": [
      "The solution multiplied with 1 is [0.25  1.625 1.25 ]\n",
      "The solution multiplied with 2 is [0.5  3.25 2.5 ]\n",
      "The solution multiplied with 3 is [0.75  4.875 3.75 ]\n",
      "The solution multiplied with 4 is [1.  6.5 5. ]\n",
      "The solution multiplied with 5 is [1.25  8.125 6.25 ]\n",
      "The solution multiplied with 6 is [1.5  9.75 7.5 ]\n",
      "The solution multiplied with 7 is [ 1.75  11.375  8.75 ]\n",
      "The solution multiplied with 8 is [ 2. 13. 10.]\n",
      "The solution multiplied with 9 is [ 2.25  14.625 11.25 ]\n",
      "The solution multiplied with 10 is [ 2.5  16.25 12.5 ]\n"
     ]
    }
   ],
   "source": [
    "# Print out the multiples from 1 to 10\n",
    "for i in range(1, 11):\n",
    "    print(f\"The solution multiplied with {i} is {i*solution}\")"
   ]
  },
  {
   "cell_type": "markdown",
   "metadata": {},
   "source": [
    "### Exercise 4d: \n",
    "Write up the balanced equation, in other words, what is $x,$ $y,$ $z,$ and $w$?"
   ]
  },
  {
   "cell_type": "markdown",
   "metadata": {},
   "source": [
    "$$2*C_4H_{10}+13*O_2 = 10*H_2O + 8*CO_2.$$"
   ]
  },
  {
   "cell_type": "markdown",
   "metadata": {},
   "source": [
    "## Moral of the Story"
   ]
  },
  {
   "cell_type": "markdown",
   "metadata": {},
   "source": [
    "NumPy's linear algebra module makes working with linear algebra easy. In many universities around the world, NumPy is used in courses for linear algebra. In Exercise 4 above, you saw that one can use NumPy to balance chemical equations. Many other applications of linear algebra exist and you can check out the article: https://medium.com/@jeremyjkun/here-s-just-a-fraction-of-what-you-can-do-with-linear-algebra-633383d4153f for more examples!"
   ]
  }
 ],
 "metadata": {
  "kernelspec": {
   "display_name": "Python 3",
   "language": "python",
   "name": "python3"
  },
  "language_info": {
   "codemirror_mode": {
    "name": "ipython",
    "version": 3
   },
   "file_extension": ".py",
   "mimetype": "text/x-python",
   "name": "python",
   "nbconvert_exporter": "python",
   "pygments_lexer": "ipython3",
   "version": "3.8.5"
  }
 },
 "nbformat": 4,
 "nbformat_minor": 4
}
